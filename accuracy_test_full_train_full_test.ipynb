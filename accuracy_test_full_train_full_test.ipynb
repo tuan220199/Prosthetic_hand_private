{
 "cells": [
  {
   "cell_type": "code",
   "execution_count": 1,
   "metadata": {},
   "outputs": [
    {
     "name": "stderr",
     "output_type": "stream",
     "text": [
      "/usr/lib/python3/dist-packages/scipy/__init__.py:146: UserWarning: A NumPy version >=1.17.3 and <1.25.0 is required for this version of SciPy (detected version 1.26.4\n",
      "  warnings.warn(f\"A NumPy version >={np_minversion} and <{np_maxversion}\"\n"
     ]
    }
   ],
   "source": [
    "import os\n",
    "import numpy as np\n",
    "import pandas as pd\n",
    "from sklearn.linear_model import LogisticRegression\n",
    "from joblib import dump, load\n",
    "import matplotlib.pyplot as plt\n",
    "import csv\n",
    "import torch\n",
    "import torch.nn as nn\n",
    "import torch.optim as optim\n",
    "from data_loader import CustomSignalData, CustomSignalData1\n",
    "from torch.autograd import Variable\n",
    "from encoder import Encoder as E\n",
    "from helpers import set_cmd_cb, rms_formuula, get_data, get_all_data, get_shift_data, get_operators, plot_cfs_mat, roll_data\n"
   ]
  },
  {
   "cell_type": "code",
   "execution_count": 2,
   "metadata": {},
   "outputs": [],
   "source": [
    "DEVICE = torch.device(\"cpu\")\n",
    "def getFeatureMatrix(rawDataMatrix, windowLength, windowOverlap):\n",
    "    rms = lambda sig: np.sqrt(np.mean(sig**2))\n",
    "    nChannels,nSamples = rawDataMatrix.shape    \n",
    "    I = int(np.floor(nSamples/(windowLength-windowOverlap)))\n",
    "    featMatrix = np.zeros([nChannels, I])\n",
    "    for channel in range(nChannels):\n",
    "        for i in range (I):\n",
    "            wdwStrtIdx=i*(windowLength-windowOverlap)\n",
    "            sigWin = rawDataMatrix[channel][wdwStrtIdx:(wdwStrtIdx+windowLength-1)] \n",
    "            featMatrix[channel, i] = rms(sigWin)\n",
    "    featMatrixData = np.array(featMatrix)\n",
    "    return featMatrixData\n",
    "\n",
    "class FFNN(torch.nn.Module):\n",
    "    def __init__(self, inputSize, outputSize):\n",
    "        super(FFNN, self).__init__()\n",
    "        self.encoder = torch.nn.Sequential(\n",
    "            torch.nn.Linear(inputSize, 9, bias=False),\n",
    "            torch.nn.Sigmoid()\n",
    "        )\n",
    "        self.classifer = torch.nn.Sequential(\n",
    "            torch.nn.Linear(9, outputSize, bias=False),\n",
    "            # torch.nn.Softmax(dim=1)\n",
    "        )\n",
    "\n",
    "    def forward(self, x, encoder=None):\n",
    "        if not encoder:\n",
    "            encoder = self.encoder\n",
    "        z = encoder(x)\n",
    "        class_z = self.classifer(z)\n",
    "\n",
    "        return class_z\n",
    "\n",
    "class Operator(nn.Module):\n",
    "    def __init__(self, in_features, n_rotations):\n",
    "        super(Operator, self).__init__()\n",
    "        \"\"\"\n",
    "        Args:\n",
    "          in_features (int): Number of input features which should be equal to xsize.\n",
    "          out_features (out): Number of output features which should be equal to ysize.\n",
    "        \"\"\"\n",
    "        self.in_features = in_features\n",
    "        self.core = torch.nn.Parameter(torch.zeros(3*self.in_features**2)- 0*torch.diag(torch.rand(3*self.in_features**2)/10))\n",
    "        self.core.requires_grad = True\n",
    "        self.n_rotations = n_rotations\n",
    "        \n",
    "    def rotate_batch(self, x, d, out_features):\n",
    "      rotated = torch.empty(x.shape[0], 3*out_features*out_features, device=DEVICE)\n",
    "      phies = [torch.linalg.matrix_power(self.core,i).to(DEVICE) for i in range (0,self.n_rotations+0)]\n",
    "      for i in range (x.shape[0]):\n",
    "        rotated[i] = phies[(d[i]+0)%4].matmul(x[i]) \n",
    "      return rotated\n",
    "\n",
    "    def forward(self, x, d):\n",
    "        \"\"\"\n",
    "        Args:\n",
    "          x of shape (batch_size, 3, xsize, xsize): Inputs.\n",
    "        \n",
    "        Returns:\n",
    "          y of shape (batch_size, 3*xsize^2): Outputs.\n",
    "        \"\"\"\n",
    "        z = self.rotate_batch(x, d, self.in_features)\n",
    "        return z\n",
    "def get_tensor(arr):\n",
    "    return torch.tensor(arr, device=DEVICE,dtype=torch.float )\n",
    "\n",
    "def rotate_batch(x, d, out_features):\n",
    "    M = torch.diag(torch.ones(8)).roll(-1,1)\n",
    "    used_bases = [torch.linalg.matrix_power(M,i).to(DEVICE) for i in range (8)]\n",
    "    rotated = torch.empty(x.shape, device=DEVICE)\n",
    "    for i in range (x.shape[0]):\n",
    "        rotated[i] = used_bases[d[i]].matmul(x[i]) \n",
    "    return rotated\n",
    "\n",
    "def clf_acc(model, loader, masks = None, encoder = None):\n",
    "    model.eval()\n",
    "    correct = 0\n",
    "    iter = 0\n",
    "    with torch.no_grad():\n",
    "        for inputs, labels,_,_ in loader:\n",
    "            inputs = inputs.to(DEVICE)\n",
    "            if masks is not None:\n",
    "                inputs = inputs * masks[:inputs.size()[0]]\n",
    "            labels = labels.to(DEVICE)\n",
    "            labels = labels.flatten()\n",
    "            if encoder:\n",
    "                pred = model(inputs, encoder)\n",
    "            else:\n",
    "                pred = model(inputs)\n",
    "            correct += (1-torch.abs(torch.sign(torch.argmax(pred,dim = 1)- labels))).mean().item()\n",
    "            iter += 1\n",
    "    return correct/iter\n",
    "\n",
    "def compute_accuracy(a, b, loader):\n",
    "    a.eval()\n",
    "    b.eval()\n",
    "    \n",
    "    correct = 0\n",
    "    iter = 0\n",
    "    \n",
    "    with torch.no_grad():\n",
    "        for inputs1, inputs2, shift1, shift2, labels, _ in loader:\n",
    "            inputs1 = inputs1.to(DEVICE)\n",
    "            inputs2 = inputs2.to(DEVICE)\n",
    "            shift1 = -shift1.int().flatten().to(DEVICE)\n",
    "            shift2 = -shift2.int().flatten().to(DEVICE)\n",
    "            labels = labels.flatten().to(DEVICE)\n",
    "            # zero the parameter gradients\n",
    "            optimizer.zero_grad()\n",
    "            \n",
    "            # forward + backward + optimize\n",
    "            y1 = a(inputs1)\n",
    "            y_tr_est1 = rotate_batch(y1,shift1,6)\n",
    "            y_tr1 = b(y_tr_est1)\n",
    "\n",
    "            y2 = a(inputs2)\n",
    "            y_tr_est2 = rotate_batch(y2,shift1,6)\n",
    "            y_tr2 = b(y_tr_est2)\n",
    "\n",
    "            correct += (1-torch.abs(torch.sign(torch.argmax(y_tr1,dim = 1)- labels))).mean().item() + \\\n",
    "                    (1-torch.abs(torch.sign(torch.argmax(y_tr2,dim = 1)- labels))).mean().item()\n",
    "            iter += 1\n",
    "    return correct * 0.5 / iter"
   ]
  },
  {
   "cell_type": "code",
   "execution_count": 3,
   "metadata": {},
   "outputs": [],
   "source": [
    "subject = '22'\n",
    "No_shift = '8'\n",
    "\n",
    "Fs = 1000\n",
    "windowLength = int(np.floor(0.1*Fs))  #160ms\n",
    "windowOverlap =  int(np.floor(50/100 * windowLength))\n",
    "\n",
    "# X_train = np.zeros([0,8])\n",
    "# y_train= np.zeros([0])\n",
    "X_test = np.zeros([0,8])\n",
    "y_test = np.zeros([0])\n",
    "\n",
    "for shift in range(0,int(No_shift)): \n",
    "    for files in sorted(os.listdir(f'Subject_{subject}/Shift_{shift}/')):\n",
    "        _, class_,_, rep_ = files.split('_')\n",
    "        if int(class_) in [1,2,3,4,5,6,7,8,9]:\n",
    "            df = pd.read_csv(f'Subject_{subject}/Shift_{shift}/{files}',skiprows=0,sep=' ',header=None)\n",
    "            data_arr = np.stack([np.array(df.T[i::8]).T.flatten().astype('float32') for i in range (8)])\n",
    "            data_arr -= 121\n",
    "            data_arr /= 255.0\n",
    "            feaData = getFeatureMatrix(data_arr, windowLength, windowOverlap)\n",
    "            \n",
    "            if not class_.startswith('9'):\n",
    "                rms_feature = feaData.sum(0)\n",
    "                baseline = 2*rms_feature[-50:].mean()\n",
    "                start_ = np.argmax(rms_feature[::1]>baseline)\n",
    "                end_  = -np.argmax(rms_feature[::-1]>baseline)\n",
    "                feaData = feaData.T[start_:end_]\n",
    "            else:\n",
    "                feaData = feaData.T\n",
    "\n",
    "            # if rep_.startswith('2'):\n",
    "            #     X_test = np.concatenate([X_test,feaData])\n",
    "            #     y_test = np.concatenate([y_test,np.ones_like(feaData)[:,0]*int(class_)-1])\n",
    "            \n",
    "            X_test = np.concatenate([X_test,feaData])\n",
    "            y_test= np.concatenate([y_test,np.ones_like(feaData)[:,0]*int(class_)-1])\n"
   ]
  },
  {
   "cell_type": "code",
   "execution_count": 4,
   "metadata": {},
   "outputs": [
    {
     "name": "stdout",
     "output_type": "stream",
     "text": [
      "[[0.00618173 0.00219444 0.00343597 ... 0.02130139 0.01734183 0.00831423]\n",
      " [0.00623178 0.0024296  0.00369729 ... 0.02960195 0.01487295 0.0117581 ]\n",
      " [0.00609314 0.00215875 0.0031776  ... 0.03120872 0.0161113  0.01154479]\n",
      " ...\n",
      " [0.00468006 0.0011824  0.00305294 ... 0.0031034  0.00193085 0.0032501 ]\n",
      " [0.00501649 0.00124636 0.00320195 ... 0.0031776  0.00208555 0.00336747]\n",
      " [0.00518775 0.00129694 0.00313879 ... 0.00321443 0.00202113 0.00346621]]\n",
      "(37757, 8)\n",
      "[0. 0. 0. ... 8. 8. 8.]\n",
      "(37757,)\n"
     ]
    }
   ],
   "source": [
    "print(X_test)\n",
    "print(X_test.shape)\n",
    "print(y_test)\n",
    "print(y_test.shape)"
   ]
  },
  {
   "cell_type": "code",
   "execution_count": 5,
   "metadata": {},
   "outputs": [],
   "source": [
    "# all_X_train, all_y_train, all_shift_train = get_all_data(X_train, y_train)\n",
    "all_X_test, all_y_test, all_shift_test = get_all_data(X_test, y_test)\n",
    "\n",
    "# all_X1_train, all_X2_train, all_shift_1_train, all_shift_2_train, all_y_shift_train = get_shift_data(all_X_train, all_shift_train, all_y_train)\n",
    "all_X1_test, all_X2_test, all_shift_1_test, all_shift_2_test, all_y_shift_test = get_shift_data(all_X_test, all_shift_test, all_y_test)\n",
    "\n",
    "# Data loader\n",
    "# traindataset = CustomSignalData(get_tensor(X_train), get_tensor(y_train))\n",
    "testdataset = CustomSignalData(get_tensor(X_test), get_tensor(y_test))\n",
    "\n",
    "# trainloader = torch.utils.data.DataLoader(traindataset, batch_size = 1, shuffle=True)\n",
    "testloader = torch.utils.data.DataLoader(testdataset, batch_size=24, shuffle=True)\n",
    "\n",
    "# all_train_dataset = CustomSignalData(get_tensor(all_X_train), get_tensor(all_y_train))\n",
    "# alltrainloader = torch.utils.data.DataLoader(all_train_dataset, batch_size = 102, shuffle=True)\n",
    "all_test_dataset = CustomSignalData(get_tensor(all_X_test), get_tensor(all_y_test))\n",
    "alltestloader = torch.utils.data.DataLoader(all_test_dataset, batch_size = 102, shuffle=True)\n",
    "\n",
    "# triplet_train_dataset = CustomSignalData1(get_tensor(all_X1_train), get_tensor(all_X2_train), get_tensor(all_shift_1_train), get_tensor(all_shift_2_train), get_tensor(all_y_shift_train))\n",
    "# triplettrainloader = torch.utils.data.DataLoader(triplet_train_dataset, batch_size = 102, shuffle=True)\n",
    "triplet_test_dataset = CustomSignalData1(get_tensor(all_X1_test), get_tensor(all_X2_test), get_tensor(all_shift_1_test), get_tensor(all_shift_2_test), get_tensor(all_y_shift_test))\n",
    "triplettestloader = torch.utils.data.DataLoader(triplet_test_dataset, batch_size = 102, shuffle=True)\n"
   ]
  },
  {
   "cell_type": "markdown",
   "metadata": {},
   "source": [
    "LOAD LEARNING MODEL"
   ]
  },
  {
   "cell_type": "code",
   "execution_count": 6,
   "metadata": {},
   "outputs": [],
   "source": [
    "logRegres  = load('LogisticRegression1.joblib')\n",
    "\n",
    "DEVICE = torch.device(\"cpu\") # operations is in CPU or GPU.\n",
    "M = torch.diag(torch.ones(8)).roll(-1,1) # Create a diagnoise matrix then shift it to the right\n",
    "used_bases = [torch.linalg.matrix_power(M,i).to(DEVICE) for i in range (8)] #\n",
    "\n",
    "N_points = 1000"
   ]
  },
  {
   "cell_type": "markdown",
   "metadata": {},
   "source": [
    "TEST ACCURACY OF LOGISTIC rEGRESSION"
   ]
  },
  {
   "cell_type": "code",
   "execution_count": 7,
   "metadata": {},
   "outputs": [
    {
     "name": "stdout",
     "output_type": "stream",
     "text": [
      "[0.3920597505098392, 0.39595306830521493, 0.3699446460259025, 0.38040628227878276, 0.4304632253621845, 0.4170617368964695, 0.38244563921921765, 0.36941494292449084]\n",
      "0.4304632253621845\n"
     ]
    }
   ],
   "source": [
    "accuracies_LosReg_shift = []\n",
    "for i in range (-4, 4):\n",
    "    X_test_shift = roll_data(X_test, i)\n",
    "    accuracies_LosReg_shift.append(logRegres.score(X_test_shift,y_test)) \n",
    "\n",
    "accuracies_LosReg = logRegres.score(X_test, y_test)\n",
    "print(accuracies_LosReg_shift)\n",
    "print(accuracies_LosReg)"
   ]
  },
  {
   "cell_type": "markdown",
   "metadata": {},
   "source": [
    "TEST ACCURACY OF FEED FORWARD NEURAL NETWORK "
   ]
  },
  {
   "cell_type": "code",
   "execution_count": 8,
   "metadata": {},
   "outputs": [],
   "source": [
    " # This model is without opeartor. It is similiarily to the classifier model but do not have encoder\n",
    "modelWOoperator = FFNN(8,9)\n",
    "modelWOoperator.load_state_dict(torch.load(\"modelwoOperator.pt\")) # loaded from the file: parameters learned during training.\n",
    "modelWOoperator.eval() # evaluation mode ensures consistent behavior during inference.\n",
    "\n",
    "\n",
    "accuracies_ffnn = []\n",
    "for i in range (-4, 4):\n",
    "    X_test_shift = roll_data(X_test, i)\n",
    "    test_shift_dataset = CustomSignalData(get_tensor(X_test_shift), get_tensor(y_test))\n",
    "    testshiftloader = torch.utils.data.DataLoader(test_shift_dataset, batch_size=24, shuffle=True)\n",
    "    accuracies_ffnn.append(clf_acc(modelWOoperator, testshiftloader, encoder = None))\n"
   ]
  },
  {
   "cell_type": "code",
   "execution_count": 9,
   "metadata": {},
   "outputs": [
    {
     "name": "stdout",
     "output_type": "stream",
     "text": [
      "[0.6519059725910463, 0.6562526470862017, 0.6589898355541871, 0.6607157983349724, 0.6509529863220309, 0.6421113946159125, 0.6518742064395127, 0.6496876324639387]\n"
     ]
    }
   ],
   "source": [
    "print(accuracies_ffnn)"
   ]
  },
  {
   "cell_type": "code",
   "execution_count": 10,
   "metadata": {},
   "outputs": [
    {
     "name": "stdout",
     "output_type": "stream",
     "text": [
      "0.6509529867385818\n"
     ]
    }
   ],
   "source": [
    "test_dataset = CustomSignalData(get_tensor(X_test), get_tensor(y_test))\n",
    "testloader = torch.utils.data.DataLoader(test_dataset, batch_size=24, shuffle=True)\n",
    "accuracies_ffnn_single = clf_acc(modelWOoperator, testloader, encoder = None)\n",
    "print(accuracies_ffnn_single)"
   ]
  },
  {
   "cell_type": "markdown",
   "metadata": {},
   "source": [
    "TEST ACCURACY OF SELF-SUPERVISED LEARNING"
   ]
  },
  {
   "cell_type": "code",
   "execution_count": 11,
   "metadata": {},
   "outputs": [
    {
     "name": "stdout",
     "output_type": "stream",
     "text": [
      "tensor([[ 1.1943e-02,  7.0172e-03,  1.8266e-02,  ...,  1.5343e-02,\n",
      "          2.2784e-03,  3.2136e-02],\n",
      "        [ 1.1721e-01,  5.5396e-02,  1.8309e-01,  ...,  6.2217e-02,\n",
      "          3.4511e-02,  4.1451e-02],\n",
      "        [ 8.6316e-02,  3.0073e-02,  1.6398e-01,  ...,  5.3353e-02,\n",
      "         -9.6507e-03,  1.6960e-01],\n",
      "        ...,\n",
      "        [ 1.7151e-02,  3.5203e-02,  3.3019e-04,  ...,  5.2602e-02,\n",
      "          7.1660e-02,  2.5194e-02],\n",
      "        [ 1.4617e-01,  2.4301e-01,  1.2075e-01,  ...,  4.0121e-02,\n",
      "         -2.9864e-02,  2.1188e-01],\n",
      "        [-5.6227e-02,  3.3742e-01,  3.7218e-01,  ...,  9.2131e-02,\n",
      "         -7.3398e-02,  2.3686e-01]])\n",
      "[tensor(0.6396), tensor(0.6405), tensor(0.6407), tensor(0.6405), tensor(0.6418), tensor(0.6410), tensor(0.6411), tensor(0.6409)]\n"
     ]
    }
   ],
   "source": [
    "classifier = FFNN(8,9) # This indicates that the neural network expects input data with 8 features and will produce output predictions across 9 classes.\n",
    "encoder = E(8,8)\n",
    "encoder.load_state_dict(torch.load(\"encoder.pt\")) # contains the learned parameters (weights and biases) of the encoder model\n",
    "recovered_points_= torch.load(\"reference_points.pt\") # These points represent reference points for inference or evaluation in the model\n",
    "print(recovered_points_)\n",
    "classifier.load_state_dict(torch.load(\"classifier.pt\")) # contains the weights and biases learned during training.\n",
    "classifier.eval() # sets the model to evaluation mode.\n",
    "encoder.eval() # sets the model to evaluation mode.\n",
    "# with torch.no_grad():\n",
    "#     encoder.eval()\n",
    "#     N_points = 1000\n",
    "#     rand_idx = np.random.choice(all_X_test.shape[0], N_points)\n",
    "#     y_tr = encoder(get_tensor(all_X_test[rand_idx]))\n",
    "#     recovered_points_ = rotate_batch(y_tr,-all_shift_test[rand_idx].flatten(), 6)\n",
    "#     del y_tr\n",
    "\n",
    "accuracies_inferred_operator = []\n",
    "for i in range (-4, 4):\n",
    "    X_test_shift = roll_data(X_test, i)\n",
    "    y1 = encoder(get_tensor(X_test_shift))\n",
    "    y_tr_rotated = torch.zeros(X_test_shift.shape[0])\n",
    "    for j, y_ in enumerate(y1):\n",
    "        distances = np.zeros(8)\n",
    "        for d in (range(-4,4)):\n",
    "            x_rotated = used_bases[d].matmul(y_).repeat(N_points,1)\n",
    "            distances[d] = ((x_rotated-recovered_points_)**2).mean(1).topk(2, largest=False)[0].mean()\n",
    "        y_tr_rotated[j] = distances.argmin()\n",
    "    y_tr_est1 = rotate_batch(y1, y_tr_rotated.int(),6)\n",
    "    y_tr1 = classifier(y_tr_est1).argmax(1)\n",
    "    # print(y_tr1- get_tensor(y_test).flatten())\n",
    "    accuracies_inferred_operator.append((1-torch.abs(torch.sign(y_tr1- get_tensor(y_test).flatten()))).mean())\n",
    "\n",
    "print(accuracies_inferred_operator)"
   ]
  },
  {
   "cell_type": "code",
   "execution_count": 12,
   "metadata": {},
   "outputs": [
    {
     "name": "stdout",
     "output_type": "stream",
     "text": [
      "tensor(0.6418)\n"
     ]
    }
   ],
   "source": [
    "# No need for shifting or rotating, directly use X_test\n",
    "y1 = encoder(get_tensor(X_test))\n",
    "\n",
    "# Calculate the rotated indices\n",
    "y_tr_rotated = torch.zeros(X_test.shape[0])\n",
    "for j, y_ in enumerate(y1):\n",
    "    distances = np.zeros(8)\n",
    "    for d in range(-4, 4):\n",
    "        x_rotated = used_bases[d].matmul(y_).repeat(N_points, 1)\n",
    "        distances[d] = ((x_rotated - recovered_points_)**2).mean(1).topk(2, largest=False)[0].mean()\n",
    "    y_tr_rotated[j] = distances.argmin()\n",
    "\n",
    "# Estimate rotated representations\n",
    "y_tr_est1 = rotate_batch(y1, y_tr_rotated.int(), 6)\n",
    "\n",
    "# Classify the rotated representations\n",
    "y_tr1 = classifier(y_tr_est1).argmax(1)\n",
    "\n",
    "# Calculate accuracy\n",
    "accuracy = (1 - torch.abs(torch.sign(y_tr1 - get_tensor(y_test).flatten()))).mean()\n",
    "\n",
    "print(accuracy)"
   ]
  }
 ],
 "metadata": {
  "kernelspec": {
   "display_name": "Python 3",
   "language": "python",
   "name": "python3"
  },
  "language_info": {
   "codemirror_mode": {
    "name": "ipython",
    "version": 3
   },
   "file_extension": ".py",
   "mimetype": "text/x-python",
   "name": "python",
   "nbconvert_exporter": "python",
   "pygments_lexer": "ipython3",
   "version": "3.10.12"
  }
 },
 "nbformat": 4,
 "nbformat_minor": 2
}
