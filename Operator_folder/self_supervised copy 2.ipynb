{
 "cells": [
  {
   "cell_type": "code",
   "execution_count": null,
   "metadata": {},
   "outputs": [],
   "source": []
  },
  {
   "cell_type": "code",
   "execution_count": 1,
   "metadata": {},
   "outputs": [
    {
     "name": "stderr",
     "output_type": "stream",
     "text": [
      "/tmp/ipykernel_22162/1706496724.py:2: DeprecationWarning: \n",
      "Pyarrow will become a required dependency of pandas in the next major release of pandas (pandas 3.0),\n",
      "(to allow more performant data types, such as the Arrow string type, and better interoperability with other libraries)\n",
      "but was not found to be installed on your system.\n",
      "If this would cause problems for you,\n",
      "please provide us feedback at https://github.com/pandas-dev/pandas/issues/54466\n",
      "        \n",
      "  import pandas as pd\n",
      "/usr/lib/python3/dist-packages/scipy/__init__.py:146: UserWarning: A NumPy version >=1.17.3 and <1.25.0 is required for this version of SciPy (detected version 1.26.4\n",
      "  warnings.warn(f\"A NumPy version >={np_minversion} and <{np_maxversion}\"\n"
     ]
    }
   ],
   "source": [
    "import torch\n",
    "import pandas as pd\n",
    "import numpy as np\n",
    "from data_loader import CustomSignalData, CustomSignalData1\n",
    "from torch.autograd import Variable\n",
    "import matplotlib.pyplot as plt\n",
    "from encoder import Encoder as E\n",
    "from helpers import get_data, get_all_data, get_shift_data, get_operators, plot_cfs_mat, roll_data"
   ]
  },
  {
   "cell_type": "code",
   "execution_count": 2,
   "metadata": {},
   "outputs": [],
   "source": [
    "DEVICE = torch.device(\"cpu\")"
   ]
  },
  {
   "attachments": {},
   "cell_type": "markdown",
   "metadata": {},
   "source": [
    "# Data Import"
   ]
  },
  {
   "cell_type": "code",
   "execution_count": 3,
   "metadata": {},
   "outputs": [
    {
     "data": {
      "text/plain": [
       "((4269, 8), (4029, 8))"
      ]
     },
     "execution_count": 3,
     "metadata": {},
     "output_type": "execute_result"
    }
   ],
   "source": [
    "X_train, y_train, X_test, y_test = get_data()\n",
    "X_train.shape, X_test.shape"
   ]
  },
  {
   "cell_type": "code",
   "execution_count": 4,
   "metadata": {},
   "outputs": [
    {
     "data": {
      "text/plain": [
       "((34152, 8), (32232, 8))"
      ]
     },
     "execution_count": 4,
     "metadata": {},
     "output_type": "execute_result"
    }
   ],
   "source": [
    "all_X_train, all_y_train, all_shift_train = get_all_data(X_train, y_train)\n",
    "all_X_test, all_y_test, all_shift_test = get_all_data(X_test, y_test)\n",
    "all_X_train.shape, all_X_test.shape"
   ]
  },
  {
   "cell_type": "code",
   "execution_count": 5,
   "metadata": {},
   "outputs": [
    {
     "data": {
      "text/plain": [
       "((34152, 8), (32232, 8))"
      ]
     },
     "execution_count": 5,
     "metadata": {},
     "output_type": "execute_result"
    }
   ],
   "source": [
    "all_X1_train, all_X2_train, all_shift_1_train, all_shift_2_train, all_y_shift_train = get_shift_data(all_X_train, all_shift_train, all_y_train)\n",
    "all_X1_test, all_X2_test, all_shift_1_test, all_shift_2_test, all_y_shift_test = get_shift_data(all_X_test, all_shift_test, all_y_test)\n",
    "\n",
    "all_X1_train.shape, all_X1_test.shape"
   ]
  },
  {
   "attachments": {},
   "cell_type": "markdown",
   "metadata": {},
   "source": [
    "# Data Loader "
   ]
  },
  {
   "cell_type": "code",
   "execution_count": 6,
   "metadata": {},
   "outputs": [],
   "source": [
    "def get_tensor(arr):\n",
    "    return torch.tensor(arr, device=DEVICE,dtype=torch.float )"
   ]
  },
  {
   "cell_type": "code",
   "execution_count": 8,
   "metadata": {},
   "outputs": [],
   "source": [
    "traindataset = CustomSignalData(get_tensor(X_train), get_tensor(y_train))\n",
    "#testdataset = CustomSignalData(get_tensor(X_test), get_tensor(y_test))\n",
    "\n",
    "trainloader = torch.utils.data.DataLoader(traindataset, batch_size = 1, shuffle=True)\n",
    "#testloader = torch.utils.data.DataLoader(testdataset, batch_size=24, shuffle=True)\n",
    "\n",
    "all_train_dataset = CustomSignalData(get_tensor(all_X_train), get_tensor(all_y_train))\n",
    "alltrainloader = torch.utils.data.DataLoader(all_train_dataset, batch_size = 102, shuffle=True)\n",
    "\n",
    "triplet_train_dataset = CustomSignalData1(get_tensor(all_X1_train), get_tensor(all_X2_train), get_tensor(all_shift_1_train), get_tensor(all_shift_2_train), get_tensor(all_y_shift_train))\n",
    "triplettrainloader = torch.utils.data.DataLoader(triplet_train_dataset, batch_size = 102, shuffle=True)\n",
    "\n",
    "#all_test_dataset = CustomSignalData(get_tensor(all_X_test), get_tensor(all_y_test))\n",
    "#alltestloader = torch.utils.data.DataLoader(all_test_dataset, batch_size = 100, shuffle=True)\n",
    "\n",
    "#triplet_test_dataset = CustomSignalData1(get_tensor(all_X1_test), get_tensor(all_X2_test), get_tensor(all_shift_1_test), get_tensor(all_shift_2_test), get_tensor(all_y_shift_test))\n",
    "#triplettestloader = torch.utils.data.DataLoader(triplet_test_dataset, batch_size = 100, shuffle=True)\n"
   ]
  },
  {
   "attachments": {},
   "cell_type": "markdown",
   "metadata": {},
   "source": [
    "# Operator"
   ]
  },
  {
   "cell_type": "code",
   "execution_count": 9,
   "metadata": {},
   "outputs": [],
   "source": [
    "M = torch.diag(torch.ones(8)).roll(-1,1)\n",
    "used_bases = [torch.linalg.matrix_power(M,i).to(DEVICE) for i in range (8)]"
   ]
  },
  {
   "cell_type": "code",
   "execution_count": 10,
   "metadata": {},
   "outputs": [],
   "source": [
    "def rotate_batch(x, d, out_features):\n",
    "  rotated = torch.empty(x.shape, device=DEVICE)\n",
    "  for i in range (x.shape[0]):\n",
    "    rotated[i] = used_bases[d[i]].matmul(x[i]) \n",
    "  return rotated"
   ]
  },
  {
   "attachments": {},
   "cell_type": "markdown",
   "metadata": {},
   "source": [
    "# Loss calculation"
   ]
  },
  {
   "cell_type": "code",
   "execution_count": 11,
   "metadata": {},
   "outputs": [],
   "source": [
    "def clf_acc(model, loader, masks = None, encoder = None):\n",
    "    model.eval()\n",
    "    correct = 0\n",
    "    iter = 0\n",
    "    with torch.no_grad():\n",
    "        for inputs, labels,_,_ in loader:\n",
    "            inputs = inputs.to(DEVICE)\n",
    "            if masks is not None:\n",
    "                inputs = inputs * masks[:inputs.size()[0]]\n",
    "            labels = labels.to(DEVICE)\n",
    "            labels = labels.flatten()\n",
    "            if encoder:\n",
    "                pred = model(inputs, encoder)\n",
    "            else:\n",
    "                pred = model(inputs)\n",
    "            correct += (1-torch.abs(torch.sign(torch.argmax(pred,dim = 1)- labels))).mean().item()\n",
    "            iter += 1\n",
    "    return correct/iter\n",
    "            "
   ]
  },
  {
   "cell_type": "code",
   "execution_count": 12,
   "metadata": {},
   "outputs": [],
   "source": [
    "# This function computes the accuracy on the test dataset\n",
    "def compute_accuracy(a, b, loader):\n",
    "    a.eval()\n",
    "    b.eval()\n",
    "    \n",
    "    correct = 0\n",
    "    iter = 0\n",
    "    \n",
    "    with torch.no_grad():\n",
    "        for inputs1, inputs2, shift1, shift2, labels, _ in loader:\n",
    "            inputs1 = inputs1.to(DEVICE)\n",
    "            inputs2 = inputs2.to(DEVICE)\n",
    "            shift1 = -shift1.int().flatten().to(DEVICE)\n",
    "            shift2 = -shift2.int().flatten().to(DEVICE)\n",
    "            labels = labels.flatten().to(DEVICE)\n",
    "            # zero the parameter gradients\n",
    "            optimizer.zero_grad()\n",
    "            \n",
    "            # forward + backward + optimize\n",
    "            y1 = a(inputs1)\n",
    "            y_tr_est1 = rotate_batch(y1,shift1,6)\n",
    "            y_tr1 = b(y_tr_est1)\n",
    "\n",
    "            y2 = a(inputs2)\n",
    "            y_tr_est2 = rotate_batch(y2,shift1,6)\n",
    "            y_tr2 = b(y_tr_est2)\n",
    "\n",
    "            correct += (1-torch.abs(torch.sign(torch.argmax(y_tr1,dim = 1)- labels))).mean().item() + \\\n",
    "                    (1-torch.abs(torch.sign(torch.argmax(y_tr2,dim = 1)- labels))).mean().item()\n",
    "            iter += 1\n",
    "    return correct * 0.5 / iter"
   ]
  },
  {
   "attachments": {},
   "cell_type": "markdown",
   "metadata": {},
   "source": [
    "# Training loop"
   ]
  },
  {
   "attachments": {},
   "cell_type": "markdown",
   "metadata": {},
   "source": [
    "## Logistic Regression"
   ]
  },
  {
   "cell_type": "code",
   "execution_count": 13,
   "metadata": {},
   "outputs": [
    {
     "name": "stderr",
     "output_type": "stream",
     "text": [
      "/home/ros-lab/.local/lib/python3.8/site-packages/sklearn/utils/validation.py:1184: DataConversionWarning: A column-vector y was passed when a 1d array was expected. Please change the shape of y to (n_samples, ), for example using ravel().\n",
      "  y = column_or_1d(y, warn=True)\n"
     ]
    },
    {
     "data": {
      "text/plain": [
       "0.3505654281098546"
      ]
     },
     "execution_count": 13,
     "metadata": {},
     "output_type": "execute_result"
    }
   ],
   "source": [
    "from sklearn.linear_model import LogisticRegression\n",
    "reg = LogisticRegression(random_state=0, penalty='l2', # LASSO\n",
    "                                solver='liblinear', C= 1000, # Suitable for LASSO\n",
    "                                max_iter=5000).fit(all_X_train, all_y_train)\n",
    "reg.score(all_X_train,all_y_train)"
   ]
  },
  {
   "cell_type": "code",
   "execution_count": 14,
   "metadata": {},
   "outputs": [],
   "source": [
    "accuracies = []\n",
    "for i in range (-4, 4):\n",
    "    X_test_shift = roll_data(X_train, i)\n",
    "    accuracies.append(reg.score(X_test_shift,y_train))"
   ]
  },
  {
   "attachments": {},
   "cell_type": "markdown",
   "metadata": {},
   "source": [
    "## Feed forward Neural Network"
   ]
  },
  {
   "cell_type": "code",
   "execution_count": 15,
   "metadata": {},
   "outputs": [],
   "source": [
    "import torch\n",
    "from torch.autograd import Variable\n",
    "class FFNN(torch.nn.Module):\n",
    "    def __init__(self, inputSize, outputSize):\n",
    "        super(FFNN, self).__init__()\n",
    "        self.encoder = torch.nn.Sequential(\n",
    "            torch.nn.Linear(inputSize, 9, bias=False),\n",
    "            torch.nn.Sigmoid()\n",
    "        )\n",
    "        self.classifer = torch.nn.Sequential(\n",
    "            torch.nn.Linear(9, outputSize, bias=False),\n",
    "            # torch.nn.Softmax(dim=1)\n",
    "        )\n",
    "\n",
    "    def forward(self, x, encoder=None):\n",
    "        if not encoder:\n",
    "            encoder = self.encoder\n",
    "        z = encoder(x)\n",
    "        class_z = self.classifer(z)\n",
    "\n",
    "        return class_z"
   ]
  },
  {
   "cell_type": "code",
   "execution_count": 16,
   "metadata": {},
   "outputs": [],
   "source": [
    "inputDim = 8     # takes variable 'x' \n",
    "outputDim = 3      # takes variable 'y'\n",
    "learningRate = 0.005\n",
    "\n",
    "model = FFNN(inputDim, outputDim)\n",
    "model = model.to(DEVICE)\n"
   ]
  },
  {
   "cell_type": "code",
   "execution_count": 17,
   "metadata": {},
   "outputs": [],
   "source": [
    "crit = torch.nn.CrossEntropyLoss()\n",
    "acc_record = []\n",
    "params_clf = list(model.parameters())# + list(encoder.parameters())\n",
    "optim = torch.optim.Adam(params_clf, lr=learningRate)"
   ]
  },
  {
   "cell_type": "code",
   "execution_count": 18,
   "metadata": {},
   "outputs": [],
   "source": [
    "DEVICE = torch.device(\"cpu\")"
   ]
  },
  {
   "cell_type": "code",
   "execution_count": 19,
   "metadata": {},
   "outputs": [
    {
     "name": "stdout",
     "output_type": "stream",
     "text": [
      "epoch 0, train 0.2293 test\n"
     ]
    },
    {
     "ename": "KeyboardInterrupt",
     "evalue": "",
     "output_type": "error",
     "traceback": [
      "\u001b[0;31m---------------------------------------------------------------------------\u001b[0m",
      "\u001b[0;31mKeyboardInterrupt\u001b[0m                         Traceback (most recent call last)",
      "Cell \u001b[0;32mIn[19], line 7\u001b[0m\n\u001b[1;32m      4\u001b[0m model\u001b[39m.\u001b[39mtrain()\n\u001b[1;32m      6\u001b[0m \u001b[39m# Converting inputs and labels to Variable\u001b[39;00m\n\u001b[0;32m----> 7\u001b[0m \u001b[39mfor\u001b[39;00m inputs, labels, _, _ \u001b[39min\u001b[39;00m alltrainloader:\n\u001b[1;32m      8\u001b[0m     inputs \u001b[39m=\u001b[39m inputs\u001b[39m.\u001b[39mto(DEVICE)\n\u001b[1;32m      9\u001b[0m     labels \u001b[39m=\u001b[39m labels\u001b[39m.\u001b[39mto(DEVICE)\n",
      "File \u001b[0;32m/usr/local/lib/python3.8/dist-packages/torch/utils/data/dataloader.py:633\u001b[0m, in \u001b[0;36m_BaseDataLoaderIter.__next__\u001b[0;34m(self)\u001b[0m\n\u001b[1;32m    630\u001b[0m \u001b[39mif\u001b[39;00m \u001b[39mself\u001b[39m\u001b[39m.\u001b[39m_sampler_iter \u001b[39mis\u001b[39;00m \u001b[39mNone\u001b[39;00m:\n\u001b[1;32m    631\u001b[0m     \u001b[39m# TODO(https://github.com/pytorch/pytorch/issues/76750)\u001b[39;00m\n\u001b[1;32m    632\u001b[0m     \u001b[39mself\u001b[39m\u001b[39m.\u001b[39m_reset()  \u001b[39m# type: ignore[call-arg]\u001b[39;00m\n\u001b[0;32m--> 633\u001b[0m data \u001b[39m=\u001b[39m \u001b[39mself\u001b[39;49m\u001b[39m.\u001b[39;49m_next_data()\n\u001b[1;32m    634\u001b[0m \u001b[39mself\u001b[39m\u001b[39m.\u001b[39m_num_yielded \u001b[39m+\u001b[39m\u001b[39m=\u001b[39m \u001b[39m1\u001b[39m\n\u001b[1;32m    635\u001b[0m \u001b[39mif\u001b[39;00m \u001b[39mself\u001b[39m\u001b[39m.\u001b[39m_dataset_kind \u001b[39m==\u001b[39m _DatasetKind\u001b[39m.\u001b[39mIterable \u001b[39mand\u001b[39;00m \\\n\u001b[1;32m    636\u001b[0m         \u001b[39mself\u001b[39m\u001b[39m.\u001b[39m_IterableDataset_len_called \u001b[39mis\u001b[39;00m \u001b[39mnot\u001b[39;00m \u001b[39mNone\u001b[39;00m \u001b[39mand\u001b[39;00m \\\n\u001b[1;32m    637\u001b[0m         \u001b[39mself\u001b[39m\u001b[39m.\u001b[39m_num_yielded \u001b[39m>\u001b[39m \u001b[39mself\u001b[39m\u001b[39m.\u001b[39m_IterableDataset_len_called:\n",
      "File \u001b[0;32m/usr/local/lib/python3.8/dist-packages/torch/utils/data/dataloader.py:677\u001b[0m, in \u001b[0;36m_SingleProcessDataLoaderIter._next_data\u001b[0;34m(self)\u001b[0m\n\u001b[1;32m    675\u001b[0m \u001b[39mdef\u001b[39;00m \u001b[39m_next_data\u001b[39m(\u001b[39mself\u001b[39m):\n\u001b[1;32m    676\u001b[0m     index \u001b[39m=\u001b[39m \u001b[39mself\u001b[39m\u001b[39m.\u001b[39m_next_index()  \u001b[39m# may raise StopIteration\u001b[39;00m\n\u001b[0;32m--> 677\u001b[0m     data \u001b[39m=\u001b[39m \u001b[39mself\u001b[39;49m\u001b[39m.\u001b[39;49m_dataset_fetcher\u001b[39m.\u001b[39;49mfetch(index)  \u001b[39m# may raise StopIteration\u001b[39;00m\n\u001b[1;32m    678\u001b[0m     \u001b[39mif\u001b[39;00m \u001b[39mself\u001b[39m\u001b[39m.\u001b[39m_pin_memory:\n\u001b[1;32m    679\u001b[0m         data \u001b[39m=\u001b[39m _utils\u001b[39m.\u001b[39mpin_memory\u001b[39m.\u001b[39mpin_memory(data, \u001b[39mself\u001b[39m\u001b[39m.\u001b[39m_pin_memory_device)\n",
      "File \u001b[0;32m/usr/local/lib/python3.8/dist-packages/torch/utils/data/_utils/fetch.py:51\u001b[0m, in \u001b[0;36m_MapDatasetFetcher.fetch\u001b[0;34m(self, possibly_batched_index)\u001b[0m\n\u001b[1;32m     49\u001b[0m         data \u001b[39m=\u001b[39m \u001b[39mself\u001b[39m\u001b[39m.\u001b[39mdataset\u001b[39m.\u001b[39m__getitems__(possibly_batched_index)\n\u001b[1;32m     50\u001b[0m     \u001b[39melse\u001b[39;00m:\n\u001b[0;32m---> 51\u001b[0m         data \u001b[39m=\u001b[39m [\u001b[39mself\u001b[39m\u001b[39m.\u001b[39mdataset[idx] \u001b[39mfor\u001b[39;00m idx \u001b[39min\u001b[39;00m possibly_batched_index]\n\u001b[1;32m     52\u001b[0m \u001b[39melse\u001b[39;00m:\n\u001b[1;32m     53\u001b[0m     data \u001b[39m=\u001b[39m \u001b[39mself\u001b[39m\u001b[39m.\u001b[39mdataset[possibly_batched_index]\n",
      "File \u001b[0;32m/usr/local/lib/python3.8/dist-packages/torch/utils/data/_utils/fetch.py:51\u001b[0m, in \u001b[0;36m<listcomp>\u001b[0;34m(.0)\u001b[0m\n\u001b[1;32m     49\u001b[0m         data \u001b[39m=\u001b[39m \u001b[39mself\u001b[39m\u001b[39m.\u001b[39mdataset\u001b[39m.\u001b[39m__getitems__(possibly_batched_index)\n\u001b[1;32m     50\u001b[0m     \u001b[39melse\u001b[39;00m:\n\u001b[0;32m---> 51\u001b[0m         data \u001b[39m=\u001b[39m [\u001b[39mself\u001b[39;49m\u001b[39m.\u001b[39;49mdataset[idx] \u001b[39mfor\u001b[39;00m idx \u001b[39min\u001b[39;00m possibly_batched_index]\n\u001b[1;32m     52\u001b[0m \u001b[39melse\u001b[39;00m:\n\u001b[1;32m     53\u001b[0m     data \u001b[39m=\u001b[39m \u001b[39mself\u001b[39m\u001b[39m.\u001b[39mdataset[possibly_batched_index]\n",
      "File \u001b[0;32m~/Desktop/Armband/gForceSDKPython-masterD3/gForceSDKPython-master/data_loader.py:18\u001b[0m, in \u001b[0;36mCustomSignalData.__getitem__\u001b[0;34m(self, idx)\u001b[0m\n\u001b[1;32m     16\u001b[0m     \u001b[39mreturn\u001b[39;00m \u001b[39mself\u001b[39m\u001b[39m.\u001b[39mtransform(\u001b[39mself\u001b[39m\u001b[39m.\u001b[39mx[idx]), \u001b[39mself\u001b[39m\u001b[39m.\u001b[39my[idx], \u001b[39mself\u001b[39m\u001b[39m.\u001b[39mz[idx], \u001b[39mself\u001b[39m\u001b[39m.\u001b[39ma[idx]\n\u001b[1;32m     17\u001b[0m \u001b[39melse\u001b[39;00m:\n\u001b[0;32m---> 18\u001b[0m     \u001b[39mreturn\u001b[39;00m \u001b[39mself\u001b[39m\u001b[39m.\u001b[39mx[idx], \u001b[39mself\u001b[39m\u001b[39m.\u001b[39my[idx], \u001b[39mself\u001b[39;49m\u001b[39m.\u001b[39;49mz[idx], \u001b[39mself\u001b[39m\u001b[39m.\u001b[39ma[idx]\n",
      "\u001b[0;31mKeyboardInterrupt\u001b[0m: "
     ]
    }
   ],
   "source": [
    "epochs = 200\n",
    "#encoder = encoder.to(device)\n",
    "for epoch in range(epochs):\n",
    "    model.train()\n",
    "\n",
    "    # Converting inputs and labels to Variable\n",
    "    for inputs, labels, _, _ in alltrainloader:\n",
    "        inputs = inputs.to(DEVICE)\n",
    "        labels = labels.to(DEVICE)\n",
    "        labels = labels.long()\n",
    "        labels = labels.flatten()\n",
    "        outputs = model(inputs, None)\n",
    "        optim.zero_grad()\n",
    "        # get loss for the predicted output\n",
    "        losss = crit(outputs, labels) #+ 0.001 * model.l1_regula()\n",
    "        # get gradients w.r.t to parameters\n",
    "        losss.backward()\n",
    "        # update parameters\n",
    "        optim.step()\n",
    "\n",
    "    if not epoch %20:\n",
    "        train_acc = clf_acc(model, alltrainloader,encoder= None)\n",
    "        #test_acc = clf_acc(model, alltestloader, encoder = None)\n",
    "        acc_record += [train_acc]# [(train_acc, test_acc)]\n",
    "    if not epoch % 20:\n",
    "        print('epoch {}, train {:.4} test'.format(epoch, train_acc))#, test_acc))"
   ]
  },
  {
   "cell_type": "code",
   "execution_count": null,
   "metadata": {},
   "outputs": [],
   "source": [
    "accuracies_ffnn = []\n",
    "for i in range (-4, 4):\n",
    "    X_test_shift = roll_data(X_train, i)\n",
    "    test_shift_dataset = CustomSignalData(get_tensor(X_test_shift), get_tensor(y_train))\n",
    "    testshiftloader = torch.utils.data.DataLoader(test_shift_dataset, batch_size=24, shuffle=True)\n",
    "    accuracies_ffnn.append(clf_acc(model, testshiftloader, encoder = None))\n"
   ]
  },
  {
   "cell_type": "code",
   "execution_count": null,
   "metadata": {},
   "outputs": [
    {
     "data": {
      "text/plain": [
       "<matplotlib.legend.Legend at 0x7f3b76ccf370>"
      ]
     },
     "execution_count": 20,
     "metadata": {},
     "output_type": "execute_result"
    },
    {
     "data": {
      "image/png": "[encoded data removed]",
      "text/plain": [
       "<Figure size 640x480 with 1 Axes>"
      ]
     },
     "metadata": {},
     "output_type": "display_data"
    }
   ],
   "source": [
    "#plt.plot(range(-15,16),accuracies, '-o', label=\"Logistic Reg\")\n",
    "#plt.plot(range(-15,16),accuracies_distort, '-s', label=\"Logistic Reg, distorted\")\n",
    "plt.plot(range(-4,4),accuracies, '-o', label=\"LogReg\")\n",
    "plt.plot(range(-4,4),accuracies_ffnn, '-s', label=\"wo Operator\")\n",
    "plt.fill_between(range(-2,3), 0,1, alpha=0.2)\n",
    "plt.legend()"
   ]
  },
  {
   "cell_type": "code",
   "execution_count": null,
   "metadata": {},
   "outputs": [],
   "source": [
    "torch.save(model.state_dict(), \"modelwoOperator.pt\")"
   ]
  },
  {
   "attachments": {},
   "cell_type": "markdown",
   "metadata": {},
   "source": [
    "## Self-supervised"
   ]
  },
  {
   "attachments": {},
   "cell_type": "markdown",
   "metadata": {},
   "source": [
    "### Learned operator"
   ]
  },
  {
   "cell_type": "code",
   "execution_count": 15,
   "metadata": {},
   "outputs": [],
   "source": [
    "import torch\n",
    "import torch.nn as nn\n",
    "\n",
    "class Operator(nn.Module):\n",
    "    def __init__(self, in_features, n_rotations):\n",
    "        super(Operator, self).__init__()\n",
    "        \"\"\"\n",
    "        Args:\n",
    "          in_features (int): Number of input features which should be equal to xsize.\n",
    "          out_features (out): Number of output features which should be equal to ysize.\n",
    "        \"\"\"\n",
    "        self.in_features = in_features\n",
    "        self.core = torch.nn.Parameter(torch.zeros(3*self.in_features**2)- 0*torch.diag(torch.rand(3*self.in_features**2)/10))\n",
    "        self.core.requires_grad = True\n",
    "        self.n_rotations = n_rotations\n",
    "        \n",
    "    def rotate_batch(self, x, d, out_features):\n",
    "      rotated = torch.empty(x.shape[0], 3*out_features*out_features, device=DEVICE)\n",
    "      phies = [torch.linalg.matrix_power(self.core,i).to(DEVICE) for i in range (0,self.n_rotations+0)]\n",
    "      for i in range (x.shape[0]):\n",
    "        rotated[i] = phies[(d[i]+0)%4].matmul(x[i]) \n",
    "      return rotated\n",
    "\n",
    "    def forward(self, x, d):\n",
    "        \"\"\"\n",
    "        Args:\n",
    "          x of shape (batch_size, 3, xsize, xsize): Inputs.\n",
    "        \n",
    "        Returns:\n",
    "          y of shape (batch_size, 3*xsize^2): Outputs.\n",
    "        \"\"\"\n",
    "        z = self.rotate_batch(x, d, self.in_features)\n",
    "        return z"
   ]
  },
  {
   "attachments": {},
   "cell_type": "markdown",
   "metadata": {},
   "source": [
    "### Training"
   ]
  },
  {
   "cell_type": "code",
   "execution_count": 16,
   "metadata": {},
   "outputs": [],
   "source": [
    "DEVICE = torch.device(\"cpu\")"
   ]
  },
  {
   "cell_type": "code",
   "execution_count": 20,
   "metadata": {},
   "outputs": [],
   "source": [
    "encoder = E(8,8)\n",
    "encoder.to(DEVICE)\n",
    "classifier = FFNN(8,3)\n",
    "classifier.to(DEVICE)\n",
    "\n",
    "parameters = list(encoder.parameters()) + list(classifier.parameters())\n",
    "\n",
    "crit1 = torch.nn.MSELoss()\n",
    "crit2 = torch.nn.CrossEntropyLoss()\n",
    "crit1.to(DEVICE)\n",
    "crit2.to(DEVICE)\n",
    "loss_record = []"
   ]
  },
  {
   "cell_type": "code",
   "execution_count": 21,
   "metadata": {},
   "outputs": [],
   "source": [
    "import torch.optim as optim\n",
    "optimizer = optim.Adam(parameters, lr=0.002)"
   ]
  },
  {
   "cell_type": "code",
   "execution_count": 22,
   "metadata": {},
   "outputs": [
    {
     "name": "stdout",
     "output_type": "stream",
     "text": [
      "Epoch 0/50: train error 0.1904 test error 0.005\n",
      "Epoch 5/50: train error 0.525 test error 0.005\n",
      "Epoch 10/50: train error 0.5677 test error 0.005\n",
      "Epoch 15/50: train error 0.5758 test error 0.005\n",
      "Epoch 20/50: train error 0.5818 test error 0.005\n",
      "Epoch 25/50: train error 0.5866 test error 0.005\n",
      "Epoch 30/50: train error 0.59 test error 0.005\n",
      "Epoch 35/50: train error 0.5926 test error 0.005\n",
      "Epoch 40/50: train error 0.5946 test error 0.005\n",
      "Epoch 45/50: train error 0.5952 test error 0.005\n"
     ]
    }
   ],
   "source": [
    "n_epochs = 50\n",
    "\n",
    "for epoch in range(0,n_epochs):\n",
    "  encoder.train()\n",
    "  classifier.train()\n",
    "  for inputs1, inputs2, shift1, shift2, labels, _ in triplettrainloader:\n",
    "    inputs1 = inputs1.to(DEVICE)\n",
    "    inputs2 = inputs2.to(DEVICE)\n",
    "    shift1 = -shift1.int().flatten().to(DEVICE)\n",
    "    shift2 = -shift2.int().flatten().to(DEVICE)\n",
    "    labels = labels.long().flatten().to(DEVICE)\n",
    "    # zero the parameter gradients\n",
    "    optimizer.zero_grad()\n",
    "      \n",
    "    # forward + backward + optimize\n",
    "    y1 = encoder(inputs1)\n",
    "    y_tr_est1 = rotate_batch(y1,shift1,6)\n",
    "    y_tr1 = classifier(y_tr_est1)\n",
    "\n",
    "\n",
    "    y2 = encoder(inputs2)\n",
    "    y_tr_est2 = rotate_batch(y2,shift2,6)\n",
    "    y_tr2 = classifier(y_tr_est2)\n",
    "\n",
    "    loss =  crit1(y_tr_est1, y_tr_est2) + 0.5*crit2(y_tr1,labels)+ 0.5*crit2(y_tr2,labels)\n",
    "    loss.backward()\n",
    "    optimizer.step()\n",
    "    \n",
    "  if not epoch %5:\n",
    "    train_loss = compute_accuracy(encoder, classifier, triplettrainloader)\n",
    "    test_loss = 0.005# compute_accuracy(encoder, classifier, triplettestloader)\n",
    "    loss_record +=  [(train_loss, test_loss)]\n",
    "    print(\"Epoch {}/{}: train error {:.4} test error {:.4}\".format(epoch, n_epochs,train_loss, test_loss))"
   ]
  },
  {
   "cell_type": "code",
   "execution_count": 23,
   "metadata": {},
   "outputs": [],
   "source": [
    "torch.save(classifier.state_dict(), \"classifier.pt\")\n",
    "torch.save(encoder.state_dict(), \"encoder.pt\")"
   ]
  },
  {
   "cell_type": "code",
   "execution_count": 24,
   "metadata": {},
   "outputs": [],
   "source": [
    "accuracies_operator = []\n",
    "for i in range (-4, 4):\n",
    "    X_test_shift = roll_data(X_train, i)\n",
    "    y1 = encoder(get_tensor(X_test_shift))\n",
    "    y_tr_est1 = rotate_batch(y1, -torch.ones(X_test_shift.shape[0]).int() * i,6)\n",
    "    y_tr1 = classifier(y_tr_est1)\n",
    "    accuracies_operator.append((1-torch.abs(torch.sign(torch.argmax(y_tr1,dim = 1)- get_tensor(y_train).flatten()))).mean())\n"
   ]
  },
  {
   "cell_type": "code",
   "execution_count": 25,
   "metadata": {},
   "outputs": [],
   "source": [
    "with torch.no_grad():\n",
    "    encoder.eval()\n",
    "    N_points = 1000\n",
    "    rand_idx = np.random.choice(all_X_train.shape[0], N_points)\n",
    "    y_tr = encoder(get_tensor(all_X_train[rand_idx]))\n",
    "    recovered_points_ = rotate_batch(y_tr,-all_shift_train[rand_idx].flatten(), 6)\n",
    "    del y_tr\n",
    "    "
   ]
  },
  {
   "cell_type": "code",
   "execution_count": 26,
   "metadata": {},
   "outputs": [],
   "source": [
    "torch.save(recovered_points_, \"reference_points.pt\")\n"
   ]
  },
  {
   "cell_type": "code",
   "execution_count": 27,
   "metadata": {},
   "outputs": [],
   "source": [
    "with torch.no_grad():\n",
    "    encoder.eval()\n",
    "    N_points = 1000\n",
    "    rand_idx = np.random.choice(all_X_train.shape[0], N_points)\n",
    "    y_tr = encoder(get_tensor(all_X_train[rand_idx]))\n",
    "    recovered_points_ = rotate_batch(y_tr,-all_shift_train[rand_idx].flatten(), 6)\n",
    "    del y_tr\n",
    "    \n",
    "    accuracies_inferred_operator = []\n",
    "    for i in range (-4, 4):\n",
    "        X_test_shift = roll_data(X_train, i)\n",
    "        y1 = encoder(get_tensor(X_test_shift))\n",
    "        y_tr_rotated = torch.zeros(X_test_shift.shape[0])\n",
    "        for j, y_ in enumerate(y1):\n",
    "            distances = np.zeros(8)\n",
    "            for d in (range(-4,4)):\n",
    "                x_rotated = used_bases[d].matmul(y_).repeat(N_points,1)\n",
    "                distances[d] = ((x_rotated-recovered_points_)**2).mean(1).topk(2, largest=False)[0].mean()\n",
    "            y_tr_rotated[j] = distances.argmin()\n",
    "        y_tr_est1 = rotate_batch(y1, y_tr_rotated.int(),6)\n",
    "        y_tr1 = classifier(y_tr_est1).argmax(1)\n",
    "        accuracies_inferred_operator.append((1-torch.abs(torch.sign(y_tr1- get_tensor(y_train).flatten()))).mean())\n"
   ]
  },
  {
   "cell_type": "code",
   "execution_count": null,
   "metadata": {},
   "outputs": [],
   "source": []
  },
  {
   "cell_type": "code",
   "execution_count": null,
   "metadata": {},
   "outputs": [
    {
     "data": {
      "text/plain": [
       "<matplotlib.legend.Legend at 0x7f6b7ed3f670>"
      ]
     },
     "execution_count": 26,
     "metadata": {},
     "output_type": "execute_result"
    },
    {
     "data": {
      "image/png": "[encoded data removed]",
      "text/plain": [
       "<Figure size 640x480 with 1 Axes>"
      ]
     },
     "metadata": {},
     "output_type": "display_data"
    }
   ],
   "source": [
    "#plt.plot(range(-15,16),accuracies, '-o', label=\"Logistic Reg\")\n",
    "#plt.plot(range(-15,16),accuracies_distort, '-s', label=\"Logistic Reg, distorted\")\n",
    "#plt.plot(range(-4,4),accuracies, '-o', label=\"LogReg\")\n",
    "#plt.plot(range(-4,4),accuracies_ffnn, '-s', label=\"wo Operator\")\n",
    "plt.plot(range(-4,4),accuracies_operator, '-s', label=\"given Operator\")\n",
    "plt.plot(range(-4,4),accuracies_inferred_operator, '-s', label=\"infer Operator\")\n",
    "\n",
    "plt.fill_between(range(-2,3), 0,1, alpha=0.2)\n",
    "plt.legend()"
   ]
  },
  {
   "cell_type": "code",
   "execution_count": 89,
   "metadata": {},
   "outputs": [],
   "source": [
    "with torch.no_grad():\n",
    "    encoder.eval()\n",
    "    N_points = 1000\n",
    "    rand_idx = np.random.choice(all_X_train.shape[0], N_points)\n",
    "    y_tr = encoder(get_tensor(all_X_train[rand_idx]))\n",
    "    recovered_points_ = rotate_batch(y_tr,-all_shift_train[rand_idx].flatten(), 6)\n",
    "    del y_tr"
   ]
  },
  {
   "cell_type": "code",
   "execution_count": 120,
   "metadata": {},
   "outputs": [
    {
     "name": "stdout",
     "output_type": "stream",
     "text": [
      "tensor([3., 0., 0.,  ..., 0., 0., 0.])\n",
      "tensor([3., 0., 0.,  ..., 0., 0., 0.])\n",
      "tensor([8., 0., 0.,  ..., 0., 0., 0.])\n",
      "tensor([8., 0., 0.,  ..., 0., 0., 0.])\n",
      "tensor([8., 0., 0.,  ..., 0., 0., 0.])\n",
      "tensor([3., 0., 0.,  ..., 0., 0., 0.])\n",
      "tensor([8., 0., 0.,  ..., 0., 0., 0.])\n",
      "tensor([3., 0., 0.,  ..., 0., 0., 0.])\n"
     ]
    }
   ],
   "source": [
    "with torch.no_grad():\n",
    "    encoder.eval()\n",
    "    N_points = 1000\n",
    "    rand_idx = np.random.choice(all_X_train.shape[0], N_points)\n",
    "    y_tr = encoder(get_tensor(all_X_train[rand_idx]))\n",
    "    recovered_points_ = rotate_batch(y_tr,-all_shift_train[rand_idx].flatten(), 6)\n",
    "    del y_tr\n",
    "    \n",
    "accuracies_inferred_operator = []\n",
    "for i in range (-4, 4):\n",
    "    X_test_shift = roll_data(X_test, i)\n",
    "    y1 = encoder(get_tensor(X_test_shift))\n",
    "    y_tr_rotated = torch.zeros(X_test_shift.shape[0])\n",
    "    for j, y_ in enumerate(y1):\n",
    "        distances = np.zeros(8)\n",
    "        for d in (range(-4,4)):\n",
    "            x_rotated = used_bases[d].matmul(y_).repeat(N_points,1)\n",
    "            distances[d] = ((x_rotated-recovered_points_)**2).mean(1).topk(2, largest=False)[0].mean()\n",
    "        y_tr_rotated[j] = distances.argmin()\n",
    "    y_tr_est1 = rotate_batch(y1, y_tr_rotated.int(),6)\n",
    "    y_tr1 = classifier(y_tr_est1).argmax(1)\n",
    "    print(y_tr1- get_tensor(y_test).flatten())\n",
    "    accuracies_inferred_operator.append((1-torch.abs(torch.sign(y_tr1- get_tensor(y_test).flatten()))).mean())\n"
   ]
  },
  {
   "cell_type": "code",
   "execution_count": 121,
   "metadata": {},
   "outputs": [
    {
     "data": {
      "text/plain": [
       "[tensor(0.8295),\n",
       " tensor(0.8446),\n",
       " tensor(0.8384),\n",
       " tensor(0.8414),\n",
       " tensor(0.8403),\n",
       " tensor(0.8442),\n",
       " tensor(0.8423),\n",
       " tensor(0.8228)]"
      ]
     },
     "execution_count": 121,
     "metadata": {},
     "output_type": "execute_result"
    }
   ],
   "source": [
    "accuracies_inferred_operator"
   ]
  },
  {
   "cell_type": "code",
   "execution_count": 46,
   "metadata": {},
   "outputs": [],
   "source": [
    "torch.save(encoder.state_dict(), 'encoder_2.pt')\n",
    "torch.save(projection.state_dict(), 'projection_2.pt')"
   ]
  },
  {
   "cell_type": "code",
   "execution_count": 92,
   "metadata": {},
   "outputs": [
    {
     "data": {
      "text/plain": [
       "tensor(0.2293)"
      ]
     },
     "execution_count": 92,
     "metadata": {},
     "output_type": "execute_result"
    },
    {
     "data": {
      "image/png": "[encoded data removed]",
      "text/plain": [
       "<Figure size 640x480 with 2 Axes>"
      ]
     },
     "metadata": {},
     "output_type": "display_data"
    }
   ],
   "source": [
    "encoder.eval()\n",
    "centroids = torch.zeros(6, 192)\n",
    "first = torch.zeros(6)\n",
    "counts = torch.zeros(6,1)\n",
    "for inputs, _, labels in trainloader:\n",
    "    inputs = inputs.to(DEVICE).flatten()\n",
    "    labels = labels.flatten()[0].int()\n",
    "    y_tr = encoder(inputs)\n",
    "    if first[labels-1]:\n",
    "        centroids[labels-1] += y_tr\n",
    "    else:\n",
    "        centroids[labels-1] = y_tr\n",
    "        first[labels-1] = 1\n",
    "    counts[labels-1] +=1\n",
    "centroids /= counts\n",
    "\n",
    "inputs = get_tensor(X_test) \n",
    "y_tr = encoder(inputs)\n",
    "distt = torch.zeros(X_test.shape[0], 6)\n",
    "for i in range(6):\n",
    "    distt[:, i] = ((y_tr-centroids[i])**2).mean(1)\n",
    "plot_cfs_mat(distt.argmin(1),  y_test.astype('int').flatten()-1)\n",
    "1- (distt.argmin(1) - y_test.flatten() + 1).count_nonzero()/X_test.shape[0]"
   ]
  },
  {
   "cell_type": "code",
   "execution_count": 33,
   "metadata": {},
   "outputs": [],
   "source": [
    "def rotate_all(x):\n",
    "    rotated = torch.empty(31, x.shape[0], x.shape[1])\n",
    "    for i in range(-15,16):\n",
    "        d = torch.ones(x.shape[0])*i\n",
    "        rotated[i] = rotate_batch(x, d.int(), 6)\n",
    "    return rotated"
   ]
  },
  {
   "cell_type": "code",
   "execution_count": 68,
   "metadata": {},
   "outputs": [
    {
     "name": "stderr",
     "output_type": "stream",
     "text": [
      "/var/folders/kw/0j_qvnbn6rd90w1nywsjb2380000gn/T/ipykernel_1750/1681462754.py:10: UserWarning: __floordiv__ is deprecated, and its behavior will change in a future version of pytorch. It currently rounds toward 0 (like the 'trunc' function NOT 'floor'). This results in incorrect rounding for negative values. To keep the current behavior, use torch.div(a, b, rounding_mode='trunc'), or for actual floor division, use torch.div(a, b, rounding_mode='floor').\n",
      "  min_dist = distance_to_centroid.argmin(0) // 17\n"
     ]
    },
    {
     "data": {
      "text/plain": [
       "tensor(0.2449)"
      ]
     },
     "execution_count": 68,
     "metadata": {},
     "output_type": "execute_result"
    },
    {
     "data": {
      "image/png": "[encoded data removed]",
      "text/plain": [
       "<Figure size 640x480 with 2 Axes>"
      ]
     },
     "metadata": {},
     "output_type": "display_data"
    }
   ],
   "source": [
    "encoder.eval()\n",
    "\n",
    "labels = get_tensor(all_X0_test) \n",
    "y_tr = encoder(labels)\n",
    "y_tr_rotated = rotate_all(y_tr).repeat(6,1,1)\n",
    "distance_to_centroid = torch.empty(17*6, y_tr.shape[0])\n",
    "for i in range(6):\n",
    "    slice_distort = slice(17*i,17*(i+1))\n",
    "    distance_to_centroid[slice_distort] = ((y_tr_rotated[slice_distort]- centroids[i])**2).mean(2)\n",
    "min_dist = distance_to_centroid.argmin(0) // 17\n",
    "del y_tr_rotated\n",
    "plot_cfs_mat(min_dist.flatten(), all_y_test.astype('int')-1)\n",
    "1-(1+ min_dist - all_y_test.flatten()).count_nonzero()/y_tr.shape[0]\n"
   ]
  },
  {
   "cell_type": "code",
   "execution_count": null,
   "metadata": {},
   "outputs": [],
   "source": [
    "accuracies_self_supervised = []\n",
    "for i in range (-15, 16):\n",
    "    X_test_shift,y_test_shift = get_data(0,0, kRMS_test, 6,i)\n",
    "    y_tr = encoder(get_tensor(X_test_shift) )\n",
    "    y_tr_rotated = rotate_all(y_tr).repeat(6,1,1)\n",
    "    distance_to_centroid = torch.empty(31*6, y_tr.shape[0])\n",
    "    for j in range(6):\n",
    "        slice_distort = slice(31*j,31*(j+1))\n",
    "        distance_to_centroid[slice_distort] = ((y_tr_rotated[slice_distort]- centroids[j])**2).mean(2)\n",
    "    min_dist = distance_to_centroid.argmin(0) // 31\n",
    "    accuracies_self_supervised.append(1-(1+min_dist - y_test_shift.flatten()).count_nonzero()/y_tr.shape[0]) \n",
    "del y_tr_rotated\n",
    "del y_tr"
   ]
  },
  {
   "cell_type": "code",
   "execution_count": 37,
   "metadata": {},
   "outputs": [
    {
     "data": {
      "text/plain": [
       "<matplotlib.collections.PolyCollection at 0x2d5f8c760>"
      ]
     },
     "execution_count": 37,
     "metadata": {},
     "output_type": "execute_result"
    },
    {
     "data": {
      "image/png": "[encoded data removed]",
      "text/plain": [
       "<Figure size 640x480 with 1 Axes>"
      ]
     },
     "metadata": {},
     "output_type": "display_data"
    }
   ],
   "source": [
    "plt.plot(range(-15,16),accuracies_self_supervised, '-o', label=\"Self-supervised\")\n",
    "#plt.plot(range(-15,16),accuracies_ffnn_with_all, '-s', label=\"FFNN,distorted\")\n",
    "plt.legend()\n",
    "plt.fill_between(range(-8,8), 0,1, alpha=0.2)"
   ]
  },
  {
   "cell_type": "code",
   "execution_count": 53,
   "metadata": {},
   "outputs": [
    {
     "data": {
      "text/plain": [
       "<function ndarray.flatten>"
      ]
     },
     "execution_count": 53,
     "metadata": {},
     "output_type": "execute_result"
    }
   ],
   "source": [
    "y_test_shift.flatten"
   ]
  },
  {
   "cell_type": "code",
   "execution_count": 54,
   "metadata": {},
   "outputs": [
    {
     "data": {
      "text/plain": [
       "tensor([1, 5, 5,  ..., 1, 1, 1])"
      ]
     },
     "execution_count": 54,
     "metadata": {},
     "output_type": "execute_result"
    }
   ],
   "source": [
    "min_dist"
   ]
  },
  {
   "cell_type": "code",
   "execution_count": 55,
   "metadata": {},
   "outputs": [
    {
     "data": {
      "text/plain": [
       "tensor([ 1.,  5.,  5.,  ..., -4., -4., -4.], dtype=torch.float64)"
      ]
     },
     "execution_count": 55,
     "metadata": {},
     "output_type": "execute_result"
    }
   ],
   "source": [
    "1 + min_dist - y_test_shift.flatten()"
   ]
  },
  {
   "cell_type": "code",
   "execution_count": 58,
   "metadata": {},
   "outputs": [],
   "source": [
    "def encoding(X_np):\n",
    "    return encoder(torch.tensor(X_np)).detach().numpy()"
   ]
  },
  {
   "cell_type": "code",
   "execution_count": 53,
   "metadata": {},
   "outputs": [
    {
     "data": {
      "text/plain": [
       "(array([5814, 5474, 5814, 5474, 5814, 5491]), array([1, 2, 3, 4, 5, 6, 7]))"
      ]
     },
     "execution_count": 53,
     "metadata": {},
     "output_type": "execute_result"
    }
   ],
   "source": [
    "np.histogram(all_y_test, bins=[1,2,3,4,5,6, 7])"
   ]
  },
  {
   "cell_type": "code",
   "execution_count": 60,
   "metadata": {},
   "outputs": [
    {
     "data": {
      "text/plain": [
       "[<matplotlib.lines.Line2D at 0x2e787c910>]"
      ]
     },
     "execution_count": 60,
     "metadata": {},
     "output_type": "execute_result"
    },
    {
     "data": {
      "image/png": "[encoded data removed]",
      "text/plain": [
       "<Figure size 640x480 with 1 Axes>"
      ]
     },
     "metadata": {},
     "output_type": "display_data"
    }
   ],
   "source": [
    "prediction = reg.predict((torch.tensor(X_train)).detach().numpy())\n",
    "prediction /= np.linalg.norm(prediction,1)\n",
    "plt.plot(prediction)\n",
    "plt.plot(y_train/ np.linalg.norm(y_train, 1))"
   ]
  },
  {
   "cell_type": "code",
   "execution_count": 61,
   "metadata": {},
   "outputs": [
    {
     "name": "stderr",
     "output_type": "stream",
     "text": [
      "/opt/homebrew/lib/python3.10/site-packages/sklearn/utils/validation.py:1111: DataConversionWarning: A column-vector y was passed when a 1d array was expected. Please change the shape of y to (n_samples, ), for example using ravel().\n",
      "  y = column_or_1d(y, warn=True)\n"
     ]
    },
    {
     "data": {
      "text/plain": [
       "0.792272955343703"
      ]
     },
     "execution_count": 61,
     "metadata": {},
     "output_type": "execute_result"
    }
   ],
   "source": [
    "from sklearn.linear_model import LogisticRegression\n",
    "reg = LogisticRegression(random_state=0, penalty='l2', # LASSO\n",
    "                                solver='liblinear', C= 100000, # Suitable for LASSO\n",
    "                                max_iter=5000).fit(encoding(X_train), y_train)\n",
    "reg.score(encoding(X_test),y_test)"
   ]
  },
  {
   "cell_type": "code",
   "execution_count": 62,
   "metadata": {},
   "outputs": [],
   "source": [
    "import matplotlib.pyplot as plt"
   ]
  },
  {
   "cell_type": "code",
   "execution_count": 99,
   "metadata": {},
   "outputs": [
    {
     "data": {
      "text/plain": [
       "[<matplotlib.lines.Line2D at 0x2b7e52bc0>,\n",
       " <matplotlib.lines.Line2D at 0x2b7e52b30>]"
      ]
     },
     "execution_count": 99,
     "metadata": {},
     "output_type": "execute_result"
    },
    {
     "data": {
      "image/png": "[encoded data removed]",
      "text/plain": [
       "<Figure size 640x480 with 1 Axes>"
      ]
     },
     "metadata": {},
     "output_type": "display_data"
    }
   ],
   "source": [
    "import matplotlib.pyplot as plt\n",
    "loss_record = [(x.cpu(), y.cpu()) for (x,y) in loss_record]\n",
    "plt.plot(loss_record)"
   ]
  }
 ],
 "metadata": {
  "kernelspec": {
   "display_name": "Python 3",
   "language": "python",
   "name": "python3"
  },
  "language_info": {
   "codemirror_mode": {
    "name": "ipython",
    "version": 3
   },
   "file_extension": ".py",
   "mimetype": "text/x-python",
   "name": "python",
   "nbconvert_exporter": "python",
   "pygments_lexer": "ipython3",
   "version": "3.10.12"
  },
  "orig_nbformat": 4,
  "vscode": {
   "interpreter": {
    "hash": "b0fa6594d8f4cbf19f97940f81e996739fb7646882a419484c72d19e05852a7e"
   }
  }
 },
 "nbformat": 4,
 "nbformat_minor": 2
}
