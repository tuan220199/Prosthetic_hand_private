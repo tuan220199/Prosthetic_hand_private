{
 "cells": [
  {
   "cell_type": "code",
   "execution_count": 35,
   "metadata": {},
   "outputs": [
    {
     "name": "stdout",
     "output_type": "stream",
     "text": [
      "005E5558-C83E-011D-ACC2-7B7E46B4912C: iPhone 11 Pro\n",
      "45BB65A2-DA2C-A5A5-5F2E-B8E85EE377D0: None\n",
      "9293444F-0ED5-1C62-B4D9-BE78F9DAA841: None\n",
      "EC942D2F-58E8-B6B0-47FD-A0A57BCA118B: gForcePro+(656E)\n",
      "C14E471E-6070-E7AD-EF03-CABA7ED3E9D4: Smart Tag\n",
      "E7B50CC8-1E28-E174-45FE-943234864754: Minh’s AirPods Pro\n",
      "E9AD1CEC-4BB9-18F9-6FF2-F143FD6F6804: None\n",
      "77BAAA31-E23A-88F5-3AC7-4F95E5E028C5: minhi’s iPad\n",
      "31C39B5C-BCAE-75EC-C730-282AC4A03EEA: None\n",
      "DB399813-D591-6EE2-8AEB-B42CD226A6C5: None\n",
      "6EDEA2C1-5EB5-C6B3-2657-1D0BBE99D832: None\n",
      "7950487E-3955-D421-506B-CC535CA82E9D: None\n"
     ]
    }
   ],
   "source": [
    "import asyncio\n",
    "from bleak import BleakScanner,BleakClient\n",
    "\n",
    "devices = await BleakScanner.discover()\n",
    "for idx, d in enumerate(devices):\n",
    "    print(d)"
   ]
  },
  {
   "cell_type": "code",
   "execution_count": 44,
   "metadata": {},
   "outputs": [
    {
     "name": "stderr",
     "output_type": "stream",
     "text": [
      "/var/folders/kw/0j_qvnbn6rd90w1nywsjb2380000gn/T/ipykernel_7484/1587885099.py:1: FutureWarning: is_connected has been changed to a property. Calling it as an async method will be removed in a future version\n",
      "  BleakClient(\"EC942D2F-58E8-B6B0-47FD-A0A57BCA118B\").is_connected()\n"
     ]
    },
    {
     "data": {
      "text/plain": [
       "<Future finished result=False>"
      ]
     },
     "execution_count": 44,
     "metadata": {},
     "output_type": "execute_result"
    }
   ],
   "source": [
    "BleakClient(\"EC942D2F-58E8-B6B0-47FD-A0A57BCA118B\").is_connected()"
   ]
  },
  {
   "cell_type": "code",
   "execution_count": 41,
   "metadata": {},
   "outputs": [
    {
     "ename": "AttributeError",
     "evalue": "__enter__",
     "output_type": "error",
     "traceback": [
      "\u001b[0;31m---------------------------------------------------------------------------\u001b[0m",
      "\u001b[0;31mAttributeError\u001b[0m                            Traceback (most recent call last)",
      "Cell \u001b[0;32mIn[41], line 1\u001b[0m\n\u001b[0;32m----> 1\u001b[0m \u001b[39mwith\u001b[39;00m BleakClient(\u001b[39m\"\u001b[39m\u001b[39mEC942D2F-58E8-B6B0-47FD-A0A57BCA118B\u001b[39m\u001b[39m\"\u001b[39m) \u001b[39mas\u001b[39;00m client:\n\u001b[1;32m      2\u001b[0m       \u001b[39mif\u001b[39;00m (\u001b[39mnot\u001b[39;00m client\u001b[39m.\u001b[39mis_connected):\n\u001b[1;32m      3\u001b[0m             \u001b[39mprint\u001b[39m(\u001b[39m\"\u001b[39m\u001b[39mclient not connected\u001b[39m\u001b[39m\"\u001b[39m) \n",
      "\u001b[0;31mAttributeError\u001b[0m: __enter__"
     ]
    }
   ],
   "source": [
    "with BleakClient(\"EC942D2F-58E8-B6B0-47FD-A0A57BCA118B\") as client:\n",
    "      if (not client.is_connected):\n",
    "            print(\"client not connected\") \n",
    "      services = client.get_services()"
   ]
  },
  {
   "cell_type": "code",
   "execution_count": 24,
   "metadata": {},
   "outputs": [
    {
     "data": {
      "text/plain": [
       "<coroutine object BleakClient.read_gatt_char at 0x10703eea0>"
      ]
     },
     "execution_count": 24,
     "metadata": {},
     "output_type": "execute_result"
    }
   ],
   "source": [
    "from bleak import BleakClient\n",
    "\n",
    "UUID = 'f000ffe2-0451-4000-b000-000000000000'\n",
    "client = BleakClient(\"EC942D2F-58E8-B6B0-47FD-A0A57BCA118B\")\n",
    "client.read_gatt_char(UUID)"
   ]
  },
  {
   "cell_type": "code",
   "execution_count": 25,
   "metadata": {},
   "outputs": [
    {
     "ename": "RuntimeError",
     "evalue": "asyncio.run() cannot be called from a running event loop",
     "output_type": "error",
     "traceback": [
      "\u001b[0;31m---------------------------------------------------------------------------\u001b[0m",
      "\u001b[0;31mRuntimeError\u001b[0m                              Traceback (most recent call last)",
      "Cell \u001b[0;32mIn[25], line 12\u001b[0m\n\u001b[1;32m      9\u001b[0m         model_number \u001b[39m=\u001b[39m \u001b[39mawait\u001b[39;00m client\u001b[39m.\u001b[39mread_gatt_char(MODEL_NBR_UUID)\n\u001b[1;32m     10\u001b[0m         \u001b[39mprint\u001b[39m(\u001b[39m\"\u001b[39m\u001b[39mModel Number: \u001b[39m\u001b[39m{0}\u001b[39;00m\u001b[39m\"\u001b[39m\u001b[39m.\u001b[39mformat(\u001b[39m\"\u001b[39m\u001b[39m\"\u001b[39m\u001b[39m.\u001b[39mjoin(\u001b[39mmap\u001b[39m(\u001b[39mchr\u001b[39m, model_number))))\n\u001b[0;32m---> 12\u001b[0m asyncio\u001b[39m.\u001b[39;49mrun(main(address))\n",
      "File \u001b[0;32m/opt/homebrew/Cellar/python@3.10/3.10.9/Frameworks/Python.framework/Versions/3.10/lib/python3.10/asyncio/runners.py:33\u001b[0m, in \u001b[0;36mrun\u001b[0;34m(main, debug)\u001b[0m\n\u001b[1;32m      9\u001b[0m \u001b[39m\u001b[39m\u001b[39m\"\"\"Execute the coroutine and return the result.\u001b[39;00m\n\u001b[1;32m     10\u001b[0m \n\u001b[1;32m     11\u001b[0m \u001b[39mThis function runs the passed coroutine, taking care of\u001b[39;00m\n\u001b[0;32m   (...)\u001b[0m\n\u001b[1;32m     30\u001b[0m \u001b[39m    asyncio.run(main())\u001b[39;00m\n\u001b[1;32m     31\u001b[0m \u001b[39m\"\"\"\u001b[39;00m\n\u001b[1;32m     32\u001b[0m \u001b[39mif\u001b[39;00m events\u001b[39m.\u001b[39m_get_running_loop() \u001b[39mis\u001b[39;00m \u001b[39mnot\u001b[39;00m \u001b[39mNone\u001b[39;00m:\n\u001b[0;32m---> 33\u001b[0m     \u001b[39mraise\u001b[39;00m \u001b[39mRuntimeError\u001b[39;00m(\n\u001b[1;32m     34\u001b[0m         \u001b[39m\"\u001b[39m\u001b[39masyncio.run() cannot be called from a running event loop\u001b[39m\u001b[39m\"\u001b[39m)\n\u001b[1;32m     36\u001b[0m \u001b[39mif\u001b[39;00m \u001b[39mnot\u001b[39;00m coroutines\u001b[39m.\u001b[39miscoroutine(main):\n\u001b[1;32m     37\u001b[0m     \u001b[39mraise\u001b[39;00m \u001b[39mValueError\u001b[39;00m(\u001b[39m\"\u001b[39m\u001b[39ma coroutine was expected, got \u001b[39m\u001b[39m{!r}\u001b[39;00m\u001b[39m\"\u001b[39m\u001b[39m.\u001b[39mformat(main))\n",
      "\u001b[0;31mRuntimeError\u001b[0m: asyncio.run() cannot be called from a running event loop"
     ]
    }
   ],
   "source": [
    "import asyncio\n",
    "from bleak import BleakClient\n",
    "\n",
    "address = \"EC942D2F-58E8-B6B0-47FD-A0A57BCA118B\"\n",
    "MODEL_NBR_UUID = \"f000ffe2-0451-4000-b000-000000000000\"\n",
    "\n",
    "async def main(address):\n",
    "    async with BleakClient(address) as client:\n",
    "        model_number = await client.read_gatt_char(MODEL_NBR_UUID)\n",
    "        print(\"Model Number: {0}\".format(\"\".join(map(chr, model_number))))\n",
    "\n",
    "asyncio.run(main(address))"
   ]
  }
 ],
 "metadata": {
  "kernelspec": {
   "display_name": "Python 3",
   "language": "python",
   "name": "python3"
  },
  "language_info": {
   "codemirror_mode": {
    "name": "ipython",
    "version": 3
   },
   "file_extension": ".py",
   "mimetype": "text/x-python",
   "name": "python",
   "nbconvert_exporter": "python",
   "pygments_lexer": "ipython3",
   "version": "3.10.9"
  },
  "orig_nbformat": 4
 },
 "nbformat": 4,
 "nbformat_minor": 2
}
