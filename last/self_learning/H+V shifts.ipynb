{
 "cells": [
  {
   "cell_type": "code",
   "execution_count": 82,
   "metadata": {},
   "outputs": [],
   "source": [
    "import torch\n",
    "import pandas as pd\n",
    "import numpy as np\n",
    "from data_loader import CustomSignalData, CustomSignalData1\n",
    "import seaborn as sns\n",
    "from torch.autograd import Variable\n",
    "import matplotlib.pyplot as plt\n",
    "from encoder import Encoder as E\n",
    "from helpers import get_data, get_all_data, get_shift_data1, get_operators, plot_cfs_mat, roll_data"
   ]
  },
  {
   "cell_type": "code",
   "execution_count": 83,
   "metadata": {},
   "outputs": [],
   "source": [
    "DEVICE = torch.device(\"cpu\")"
   ]
  },
  {
   "attachments": {},
   "cell_type": "markdown",
   "metadata": {},
   "source": [
    "# Data Import"
   ]
  },
  {
   "cell_type": "code",
   "execution_count": 84,
   "metadata": {},
   "outputs": [
    {
     "data": {
      "text/plain": [
       "((6677, 8), (6172, 8), (6252, 8))"
      ]
     },
     "execution_count": 84,
     "metadata": {},
     "output_type": "execute_result"
    }
   ],
   "source": [
    "X_0_train, y_0_train, X_0_test, y_0_test = get_data(0)\n",
    "X_up_train, y_up_train, X_up_test, y_up_test = get_data(3)\n",
    "X_down_train, y_down_train, X_down_test, y_down_test = get_data(4)\n",
    "X_0_train.shape, X_up_train.shape, X_down_train.shape"
   ]
  },
  {
   "cell_type": "code",
   "execution_count": 85,
   "metadata": {},
   "outputs": [
    {
     "data": {
      "text/plain": [
       "((53416, 8), (37480, 8))"
      ]
     },
     "execution_count": 85,
     "metadata": {},
     "output_type": "execute_result"
    }
   ],
   "source": [
    "h_X_train, h_y_train, h_shift_train = get_all_data(X_0_train, y_0_train)\n",
    "h_X_test, h_y_test, h_shift_test = get_all_data(X_0_test, y_0_test)\n",
    "h_X_train.shape, h_X_test.shape"
   ]
  },
  {
   "cell_type": "code",
   "execution_count": 86,
   "metadata": {},
   "outputs": [
    {
     "data": {
      "text/plain": [
       "((19101, 8), (13968, 8))"
      ]
     },
     "execution_count": 86,
     "metadata": {},
     "output_type": "execute_result"
    }
   ],
   "source": [
    "v_X_train, v_y_train, v_shift_train = get_all_data((X_up_train, X_0_train, X_down_train), (y_up_train, y_0_train, y_down_train),(1,0,-1))\n",
    "v_X_test, v_y_test, v_shift_test = get_all_data((X_up_test, X_0_test, X_down_test), (y_up_test, y_0_test, y_down_test),(1,0,-1))\n",
    "v_X_train.shape, v_X_test.shape"
   ]
  },
  {
   "cell_type": "code",
   "execution_count": 87,
   "metadata": {},
   "outputs": [
    {
     "data": {
      "text/plain": [
       "((53416, 8), (37480, 8))"
      ]
     },
     "execution_count": 87,
     "metadata": {},
     "output_type": "execute_result"
    }
   ],
   "source": [
    "X1_train, X2_train, h_train, v_train, triplet_y_train = get_shift_data1(h_X_train, v_X_train, h_shift_train, v_shift_train, h_y_train, v_y_train)\n",
    "X1_test, X2_test, h_test, v_test, triplet_y_test = get_shift_data1(h_X_test, v_X_test, h_shift_test, v_shift_test, h_y_test, v_y_test)\n",
    "\n",
    "X1_train.shape, X1_test.shape"
   ]
  },
  {
   "cell_type": "code",
   "execution_count": 126,
   "metadata": {},
   "outputs": [
    {
     "data": {
      "text/plain": [
       "(array([7984.,    0., 8302.,    0., 7853.,    0., 8320.,    0.,    0.,\n",
       "        7047.,    0., 8058.,    0., 8085.,    0., 8618.,    0., 8250.]),\n",
       " array([0.        , 0.44444444, 0.88888889, 1.33333333, 1.77777778,\n",
       "        2.22222222, 2.66666667, 3.11111111, 3.55555556, 4.        ,\n",
       "        4.44444444, 4.88888889, 5.33333333, 5.77777778, 6.22222222,\n",
       "        6.66666667, 7.11111111, 7.55555556, 8.        ]),\n",
       " <BarContainer object of 18 artists>)"
      ]
     },
     "execution_count": 126,
     "metadata": {},
     "output_type": "execute_result"
    },
    {
     "data": {
      "image/png": "[encoded data removed]",
      "text/plain": [
       "<Figure size 640x480 with 1 Axes>"
      ]
     },
     "metadata": {},
     "output_type": "display_data"
    }
   ],
   "source": [
    "plt.hist(all_y_train, bins = 18)"
   ]
  },
  {
   "attachments": {},
   "cell_type": "markdown",
   "metadata": {},
   "source": [
    "# Data Loader "
   ]
  },
  {
   "cell_type": "code",
   "execution_count": 89,
   "metadata": {},
   "outputs": [],
   "source": [
    "def get_tensor(arr):\n",
    "    return torch.tensor(arr, device=DEVICE,dtype=torch.float )"
   ]
  },
  {
   "cell_type": "code",
   "execution_count": 90,
   "metadata": {},
   "outputs": [],
   "source": [
    "all_X_train = np.concatenate([h_X_train, v_X_train])\n",
    "all_y_train = np.concatenate([h_y_train, v_y_train])\n",
    "\n",
    "all_train_dataset = CustomSignalData(get_tensor(all_X_train), get_tensor(all_y_train))\n",
    "alltrainloader = torch.utils.data.DataLoader(all_train_dataset, batch_size = 102, shuffle=True)\n",
    "\n",
    "all_X_test = np.concatenate([h_X_test, v_X_test])\n",
    "all_y_test = np.concatenate([h_y_test, v_y_test])\n",
    "\n",
    "all_test_dataset = CustomSignalData(get_tensor(all_X_test), get_tensor(all_y_test))\n",
    "alltestloader = torch.utils.data.DataLoader(all_test_dataset, batch_size = 100, shuffle=True)\n",
    "\n",
    "triplet_train_dataset = CustomSignalData1(get_tensor(X1_train), get_tensor(X2_train), get_tensor(h_train), get_tensor(v_train), get_tensor(triplet_y_train))\n",
    "triplettrainloader = torch.utils.data.DataLoader(triplet_train_dataset, batch_size = 102, shuffle=True)\n",
    "\n",
    "triplet_test_dataset = CustomSignalData1(get_tensor(X1_test), get_tensor(X2_test), get_tensor(h_test), get_tensor(v_test), get_tensor(triplet_y_test))\n",
    "triplettestloader = torch.utils.data.DataLoader(triplet_test_dataset, batch_size = 100, shuffle=True)"
   ]
  },
  {
   "attachments": {},
   "cell_type": "markdown",
   "metadata": {},
   "source": [
    "# Loss calculation"
   ]
  },
  {
   "cell_type": "code",
   "execution_count": 91,
   "metadata": {},
   "outputs": [],
   "source": [
    "def clf_acc(model, loader, masks = None, encoder = None):\n",
    "    model.eval()\n",
    "    correct = 0\n",
    "    iter = 0\n",
    "    with torch.no_grad():\n",
    "        for inputs, labels,_,_ in loader:\n",
    "            inputs = inputs.to(DEVICE)\n",
    "            if masks is not None:\n",
    "                inputs = inputs * masks[:inputs.size()[0]]\n",
    "            labels = labels.to(DEVICE)\n",
    "            labels = labels.flatten()\n",
    "            if encoder:\n",
    "                pred = model(inputs, encoder)\n",
    "            else:\n",
    "                pred = model(inputs)\n",
    "            correct += (1-torch.abs(torch.sign(torch.argmax(pred,dim = 1)- labels))).mean().item()\n",
    "            iter += 1\n",
    "    return correct/iter\n",
    "            "
   ]
  },
  {
   "cell_type": "code",
   "execution_count": 92,
   "metadata": {},
   "outputs": [],
   "source": [
    "# This function computes the accuracy on the test dataset\n",
    "def compute_accuracy(a1,a2, b, o1, o2, loader):\n",
    "    a1.eval()\n",
    "    a2.eval()\n",
    "    b.eval()\n",
    "    o1.eval()\n",
    "    o2.eval()\n",
    "    \n",
    "    correct = 0\n",
    "    iter = 0\n",
    "    \n",
    "    with torch.no_grad():\n",
    "        for x1, x2, deg1, deg2, labels,_ in loader:\n",
    "            deg1 = -deg1.flatten().int()\n",
    "            deg2 = -deg2.flatten().int()\n",
    "            labels = labels.int().flatten()\n",
    "\n",
    "            # forward + backward + optimize\n",
    "            y1 = a1(x1)\n",
    "            y1_tr = o1(y1,deg1)\n",
    "            y1_tr = a2(y1_tr)\n",
    "\n",
    "            # forward + backward + optimize\n",
    "            y2 = a1(x2)\n",
    "            y2_tr = a2(y2)\n",
    "            y2_tr = o2(y2_tr,deg2)\n",
    "            \n",
    "            predicted_class1 = b(y1_tr)\n",
    "            predicted_class2 = b(y2_tr)\n",
    "            correct += (1.0-(predicted_class1.argmax(1)- labels).sign().abs()).mean().item()\\\n",
    "                       + (1.0-(predicted_class2.argmax(1)- labels).sign().abs()).mean().item()\n",
    "            iter += 1\n",
    "\n",
    "    return correct *0.5 / iter"
   ]
  },
  {
   "attachments": {},
   "cell_type": "markdown",
   "metadata": {},
   "source": [
    "# Training loop"
   ]
  },
  {
   "attachments": {},
   "cell_type": "markdown",
   "metadata": {},
   "source": [
    "## Logistic Regression"
   ]
  },
  {
   "cell_type": "code",
   "execution_count": 93,
   "metadata": {},
   "outputs": [
    {
     "name": "stderr",
     "output_type": "stream",
     "text": [
      "/opt/homebrew/lib/python3.10/site-packages/sklearn/utils/validation.py:1111: DataConversionWarning: A column-vector y was passed when a 1d array was expected. Please change the shape of y to (n_samples, ), for example using ravel().\n",
      "  y = column_or_1d(y, warn=True)\n"
     ]
    },
    {
     "data": {
      "text/plain": [
       "0.4472865806250972"
      ]
     },
     "execution_count": 93,
     "metadata": {},
     "output_type": "execute_result"
    }
   ],
   "source": [
    "from sklearn.linear_model import LogisticRegression\n",
    "reg = LogisticRegression(random_state=0, penalty='l2', # LASSO\n",
    "                                solver='liblinear', C= 1000, # Suitable for LASSO\n",
    "                                max_iter=5000).fit(all_X_train, all_y_train)\n",
    "reg.score(all_X_test,all_y_test)"
   ]
  },
  {
   "cell_type": "code",
   "execution_count": 94,
   "metadata": {},
   "outputs": [],
   "source": [
    "accuracies = np.zeros([3,8])\n",
    "vertical_ = zip([X_up_test,X_0_test, X_down_test],  [y_up_test,y_0_test, y_down_test])\n",
    "for j, (X_, y_) in enumerate(vertical_):\n",
    "    for i in range (-4, 4):\n",
    "        X_test_shift = roll_data(X_, i)\n",
    "        accuracies[j,i-4] = (reg.score(X_test_shift,y_))"
   ]
  },
  {
   "cell_type": "code",
   "execution_count": 95,
   "metadata": {},
   "outputs": [
    {
     "data": {
      "text/plain": [
       "<AxesSubplot:>"
      ]
     },
     "execution_count": 95,
     "metadata": {},
     "output_type": "execute_result"
    },
    {
     "data": {
      "image/png": "[encoded data removed]",
      "text/plain": [
       "<Figure size 800x300 with 1 Axes>"
      ]
     },
     "metadata": {},
     "output_type": "display_data"
    }
   ],
   "source": [
    "plt.figure(figsize=(8, 3), dpi=100)\n",
    "\n",
    "df_cm = pd.DataFrame(accuracies , index = range(-1,2),\n",
    "                  columns =range(-4,4) )\n",
    "\n",
    "sns.heatmap(df_cm, annot=True,cmap='Blues', cbar=False,vmin=0.2, vmax=0.8 )"
   ]
  },
  {
   "attachments": {},
   "cell_type": "markdown",
   "metadata": {},
   "source": [
    "## Feed forward Neural Network"
   ]
  },
  {
   "cell_type": "code",
   "execution_count": 96,
   "metadata": {},
   "outputs": [],
   "source": [
    "import torch\n",
    "from torch.autograd import Variable\n",
    "class FFNN(torch.nn.Module):\n",
    "    def __init__(self, inputSize, outputSize):\n",
    "        super(FFNN, self).__init__()\n",
    "        self.encoder = torch.nn.Sequential(\n",
    "            torch.nn.Linear(inputSize, 9, bias=False),\n",
    "            torch.nn.Sigmoid()\n",
    "        )\n",
    "        self.classifer = torch.nn.Sequential(\n",
    "            torch.nn.Linear(9, outputSize, bias=False),\n",
    "            # torch.nn.Softmax(dim=1)\n",
    "        )\n",
    "\n",
    "    def forward(self, x):\n",
    "        z = self.encoder(x)\n",
    "        class_z = self.classifer(z)\n",
    "        return class_z"
   ]
  },
  {
   "cell_type": "code",
   "execution_count": 130,
   "metadata": {},
   "outputs": [],
   "source": [
    "inputDim = 8     # takes variable 'x' \n",
    "outputDim = 9      # takes variable 'y'\n",
    "learningRate = 0.001\n",
    "\n",
    "model = FFNN(inputDim, outputDim)\n",
    "model = model.to(DEVICE)\n",
    "crit = torch.nn.CrossEntropyLoss()\n",
    "acc_record = []\n",
    "params_clf = list(model.parameters())# + list(encoder.parameters())\n",
    "optim = torch.optim.Adam(params_clf, lr=learningRate)"
   ]
  },
  {
   "cell_type": "code",
   "execution_count": 131,
   "metadata": {},
   "outputs": [],
   "source": [
    "DEVICE = torch.device(\"cpu\")"
   ]
  },
  {
   "cell_type": "code",
   "execution_count": 161,
   "metadata": {},
   "outputs": [
    {
     "name": "stdout",
     "output_type": "stream",
     "text": [
      "epoch 0, train 0.845 test 0.7727\n",
      "epoch 20, train 0.8465 test 0.7702\n",
      "epoch 40, train 0.8459 test 0.7743\n"
     ]
    }
   ],
   "source": [
    "epochs = 50\n",
    "optim = torch.optim.Adam(params_clf, lr=0.01)\n",
    "for epoch in range(epochs):\n",
    "    model.train()\n",
    "\n",
    "    # Converting inputs and labels to Variable\n",
    "    for inputs, labels, _, _ in alltrainloader:\n",
    "        with torch.no_grad():\n",
    "            inputs = inputs.to(DEVICE)\n",
    "            labels = labels.long().flatten().to(DEVICE)\n",
    "            \n",
    "        outputs = model(inputs, None)\n",
    "        optim.zero_grad()\n",
    "        losss = crit(outputs, labels) \n",
    "        losss.backward()\n",
    "        optim.step()\n",
    "\n",
    "    if not epoch %20:\n",
    "        train_acc = clf_acc(model, alltrainloader,encoder= None)\n",
    "        test_acc = clf_acc(model, alltestloader, encoder = None)\n",
    "        acc_record +=  [(train_acc, test_acc)]\n",
    "    if not epoch % 20:\n",
    "        print('epoch {}, train {:.4} test {:.4}'.format(epoch, train_acc, test_acc))"
   ]
  },
  {
   "cell_type": "code",
   "execution_count": 162,
   "metadata": {},
   "outputs": [],
   "source": [
    "with torch.no_grad():\n",
    "    accuracies_ffnn = np.zeros([3,8])\n",
    "\n",
    "    vertical_ = zip([X_up_test,X_0_test, X_down_test], [y_up_test,y_0_test, y_down_test])\n",
    "    for j, (X_, y_) in enumerate(vertical_):\n",
    "        for i in range (-4, 4):\n",
    "            X_test_shift = roll_data(X_, i)\n",
    "            outputs = model(get_tensor(X_test_shift), None)\n",
    "            accuracies_ffnn[j,i-4] = (1-torch.abs(torch.sign(torch.argmax(outputs,dim = 1)- y_))).mean()"
   ]
  },
  {
   "cell_type": "code",
   "execution_count": 163,
   "metadata": {},
   "outputs": [
    {
     "data": {
      "text/plain": [
       "<AxesSubplot:>"
      ]
     },
     "execution_count": 163,
     "metadata": {},
     "output_type": "execute_result"
    },
    {
     "data": {
      "image/png": "[encoded data removed]",
      "text/plain": [
       "<Figure size 800x300 with 1 Axes>"
      ]
     },
     "metadata": {},
     "output_type": "display_data"
    }
   ],
   "source": [
    "plt.figure(figsize=(8, 3), dpi=100)\n",
    "\n",
    "df_cm = pd.DataFrame(accuracies_ffnn , index = range(-1,2),\n",
    "                  columns =range(-4,4) )\n",
    "\n",
    "sns.heatmap(df_cm, annot=True,cmap='Blues', cbar=False,vmin=0.2, vmax=0.8)"
   ]
  },
  {
   "attachments": {},
   "cell_type": "markdown",
   "metadata": {},
   "source": [
    "## Self-supervised"
   ]
  },
  {
   "attachments": {},
   "cell_type": "markdown",
   "metadata": {},
   "source": [
    "### Learned operator"
   ]
  },
  {
   "cell_type": "code",
   "execution_count": 102,
   "metadata": {},
   "outputs": [],
   "source": [
    "import torch\n",
    "import torch.nn as nn\n",
    "\n",
    "class Operator1(nn.Module):\n",
    "    def __init__(self, in_features, n_rotations1):\n",
    "        super(Operator1, self).__init__()\n",
    "        \"\"\"\n",
    "        Args:\n",
    "          in_features (int): Number of input features which should be equal to xsize.\n",
    "          out_features (out): Number of output features which should be equal to ysize.\n",
    "        \"\"\"\n",
    "        self.in_features = in_features\n",
    "        self.core1 = torch.nn.Parameter(torch.randn(in_features, in_features)/100)\n",
    "        self.core1.requires_grad = True\n",
    "        self.n_rotations1 = n_rotations1\n",
    "        \n",
    "    def rotate_batch(self, x, d):\n",
    "      rotated = torch.empty(x.shape[0], x.shape[1])\n",
    "      phies = [torch.linalg.matrix_power(self.core1,i) for i in range (self.n_rotations1)]\n",
    "      for i in range (x.shape[0]):\n",
    "        rotated[i] = phies[d[i]].matmul(x[i])\n",
    "      return rotated\n",
    "\n",
    "    def forward(self, x, d):\n",
    "        \"\"\"\n",
    "        Args:\n",
    "          x of shape (batch_size, 3, xsize, xsize): Inputs.\n",
    "        \n",
    "        Returns:\n",
    "          y of shape (batch_size, 3*xsize^2): Outputs.\n",
    "        \"\"\"\n",
    "        z = self.rotate_batch(x, d)\n",
    "        return z"
   ]
  },
  {
   "cell_type": "code",
   "execution_count": 103,
   "metadata": {},
   "outputs": [],
   "source": [
    "import torch\n",
    "import torch.nn as nn\n",
    "\n",
    "class Operator2(nn.Module):\n",
    "    def __init__(self, in_features, n_rotations1,n_rotations2 ):\n",
    "        super(Operator2, self).__init__()\n",
    "        \"\"\"\n",
    "        Args:\n",
    "          in_features (int): Number of input features which should be equal to xsize.\n",
    "          out_features (out): Number of output features which should be equal to ysize.\n",
    "        \"\"\"\n",
    "        self.in_features = in_features\n",
    "        self.core = torch.nn.Parameter(torch.randn(in_features, in_features)/100)\n",
    "        self.core.requires_grad = True\n",
    "        self.n_rotations1 = n_rotations1\n",
    "        self.n_rotations2 = n_rotations2\n",
    "        \n",
    "    def rotate_batch(self, x, d):\n",
    "      rotated = torch.empty(x.shape[0], x.shape[1])\n",
    "      phies = [torch.linalg.matrix_power(self.core,i) for i in range (2)]+[torch.linalg.matrix_power(self.core,-1)]\n",
    "      for i in range (x.shape[0]):\n",
    "        rotated[i] = phies[d[i]].matmul(x[i])\n",
    "      return rotated\n",
    "\n",
    "    def forward(self, x, d):\n",
    "        \"\"\"\n",
    "        Args:\n",
    "          x of shape (batch_size, 3, xsize, xsize): Inputs.\n",
    "        \n",
    "        Returns:\n",
    "          y of shape (batch_size, 3*xsize^2): Outputs.\n",
    "        \"\"\"\n",
    "        z = self.rotate_batch(x, d)\n",
    "        return z"
   ]
  },
  {
   "attachments": {},
   "cell_type": "markdown",
   "metadata": {},
   "source": [
    "### Training"
   ]
  },
  {
   "cell_type": "code",
   "execution_count": 104,
   "metadata": {},
   "outputs": [],
   "source": [
    "encoder1 = E(8,8)\n",
    "encoder2 = E(8,8)\n",
    "\n",
    "operator1 = Operator1(8,8)\n",
    "operator2 = Operator2(8,1,1)\n",
    "\n",
    "classifier = FFNN(8, 9)\n",
    "\n",
    "parameters1 = list(encoder1.parameters()) + list(classifier.parameters())  + list(operator1.parameters())+ list(operator2.parameters())+ list(encoder2.parameters())\n",
    "\n",
    "criterion1 = torch.nn.MSELoss()\n",
    "criterion2 =  torch.nn.CrossEntropyLoss()\n",
    "\n",
    "loss_record = []"
   ]
  },
  {
   "cell_type": "code",
   "execution_count": 105,
   "metadata": {},
   "outputs": [],
   "source": [
    "optimizer1 = torch.optim.Adam(parameters1, lr=0.0005)\n"
   ]
  },
  {
   "cell_type": "code",
   "execution_count": 106,
   "metadata": {},
   "outputs": [
    {
     "name": "stdout",
     "output_type": "stream",
     "text": [
      "Epoch 0/100: train acc 0.1398 test acc 0.1242\n",
      "Epoch 1/100: train acc 0.1361 test acc 0.1419\n",
      "Epoch 2/100: train acc 0.1396 test acc 0.1246\n",
      "Epoch 3/100: train acc 0.1398 test acc 0.1246\n",
      "Epoch 4/100: train acc 0.1398 test acc 0.1255\n",
      "Epoch 5/100: train acc 0.1311 test acc 0.1199\n",
      "Epoch 6/100: train acc 0.1881 test acc 0.1794\n",
      "Epoch 7/100: train acc 0.1853 test acc 0.1786\n",
      "Epoch 8/100: train acc 0.2121 test acc 0.2011\n",
      "Epoch 9/100: train acc 0.2164 test acc 0.2025\n",
      "Epoch 10/100: train acc 0.2587 test acc 0.2434\n",
      "Epoch 11/100: train acc 0.2941 test acc 0.2827\n",
      "Epoch 12/100: train acc 0.3166 test acc 0.312\n",
      "Epoch 13/100: train acc 0.3494 test acc 0.3536\n",
      "Epoch 14/100: train acc 0.4032 test acc 0.3952\n",
      "Epoch 15/100: train acc 0.4483 test acc 0.4348\n",
      "Epoch 16/100: train acc 0.498 test acc 0.4754\n",
      "Epoch 17/100: train acc 0.5585 test acc 0.5191\n",
      "Epoch 18/100: train acc 0.5769 test acc 0.537\n",
      "Epoch 19/100: train acc 0.6026 test acc 0.5586\n",
      "Epoch 20/100: train acc 0.6326 test acc 0.5829\n",
      "Epoch 21/100: train acc 0.6595 test acc 0.6075\n",
      "Epoch 22/100: train acc 0.6935 test acc 0.6398\n",
      "Epoch 23/100: train acc 0.7292 test acc 0.6749\n",
      "Epoch 24/100: train acc 0.7534 test acc 0.6936\n",
      "Epoch 25/100: train acc 0.7726 test acc 0.7063\n",
      "Epoch 26/100: train acc 0.782 test acc 0.7146\n",
      "Epoch 27/100: train acc 0.792 test acc 0.719\n",
      "Epoch 28/100: train acc 0.7981 test acc 0.7233\n",
      "Epoch 29/100: train acc 0.8042 test acc 0.7244\n",
      "Epoch 30/100: train acc 0.807 test acc 0.7282\n",
      "Epoch 31/100: train acc 0.8076 test acc 0.7285\n",
      "Epoch 32/100: train acc 0.8158 test acc 0.7327\n",
      "Epoch 33/100: train acc 0.8177 test acc 0.733\n",
      "Epoch 34/100: train acc 0.8214 test acc 0.7386\n",
      "Epoch 35/100: train acc 0.8231 test acc 0.7399\n",
      "Epoch 36/100: train acc 0.83 test acc 0.746\n",
      "Epoch 37/100: train acc 0.8325 test acc 0.7424\n",
      "Epoch 38/100: train acc 0.8357 test acc 0.7518\n",
      "Epoch 39/100: train acc 0.8386 test acc 0.751\n",
      "Epoch 40/100: train acc 0.8445 test acc 0.7546\n",
      "Epoch 41/100: train acc 0.8481 test acc 0.761\n",
      "Epoch 42/100: train acc 0.8512 test acc 0.7678\n",
      "Epoch 43/100: train acc 0.8563 test acc 0.7686\n",
      "Epoch 44/100: train acc 0.8616 test acc 0.7733\n",
      "Epoch 45/100: train acc 0.8677 test acc 0.7804\n",
      "Epoch 46/100: train acc 0.8729 test acc 0.7879\n",
      "Epoch 47/100: train acc 0.877 test acc 0.7918\n",
      "Epoch 48/100: train acc 0.8835 test acc 0.7987\n",
      "Epoch 49/100: train acc 0.8882 test acc 0.8047\n",
      "Epoch 50/100: train acc 0.8911 test acc 0.8153\n",
      "Epoch 51/100: train acc 0.8971 test acc 0.8205\n",
      "Epoch 52/100: train acc 0.9005 test acc 0.8247\n",
      "Epoch 53/100: train acc 0.9042 test acc 0.8334\n",
      "Epoch 54/100: train acc 0.9104 test acc 0.8352\n",
      "Epoch 55/100: train acc 0.9205 test acc 0.8505\n",
      "Epoch 56/100: train acc 0.9283 test acc 0.8653\n",
      "Epoch 57/100: train acc 0.9348 test acc 0.8745\n",
      "Epoch 58/100: train acc 0.9397 test acc 0.8778\n",
      "Epoch 59/100: train acc 0.9421 test acc 0.8855\n",
      "Epoch 60/100: train acc 0.9464 test acc 0.8866\n",
      "Epoch 61/100: train acc 0.9476 test acc 0.8883\n",
      "Epoch 62/100: train acc 0.9496 test acc 0.8905\n",
      "Epoch 63/100: train acc 0.9515 test acc 0.8931\n",
      "Epoch 64/100: train acc 0.9528 test acc 0.8955\n",
      "Epoch 65/100: train acc 0.9545 test acc 0.8979\n",
      "Epoch 66/100: train acc 0.9544 test acc 0.8988\n",
      "Epoch 67/100: train acc 0.9553 test acc 0.8973\n",
      "Epoch 68/100: train acc 0.9565 test acc 0.8994\n",
      "Epoch 69/100: train acc 0.9566 test acc 0.9032\n",
      "Epoch 70/100: train acc 0.9577 test acc 0.9031\n",
      "Epoch 71/100: train acc 0.9585 test acc 0.8985\n",
      "Epoch 72/100: train acc 0.9597 test acc 0.9046\n",
      "Epoch 73/100: train acc 0.9596 test acc 0.9069\n",
      "Epoch 74/100: train acc 0.9608 test acc 0.9072\n",
      "Epoch 75/100: train acc 0.9581 test acc 0.8974\n",
      "Epoch 76/100: train acc 0.9612 test acc 0.9112\n",
      "Epoch 77/100: train acc 0.9607 test acc 0.9062\n",
      "Epoch 78/100: train acc 0.962 test acc 0.9062\n",
      "Epoch 79/100: train acc 0.963 test acc 0.9079\n",
      "Epoch 80/100: train acc 0.9634 test acc 0.9091\n",
      "Epoch 81/100: train acc 0.9648 test acc 0.9129\n",
      "Epoch 82/100: train acc 0.9647 test acc 0.9107\n",
      "Epoch 83/100: train acc 0.9652 test acc 0.9124\n",
      "Epoch 84/100: train acc 0.9644 test acc 0.911\n",
      "Epoch 85/100: train acc 0.9655 test acc 0.9166\n",
      "Epoch 86/100: train acc 0.966 test acc 0.9114\n",
      "Epoch 87/100: train acc 0.967 test acc 0.9145\n",
      "Epoch 88/100: train acc 0.9667 test acc 0.9167\n",
      "Epoch 89/100: train acc 0.9671 test acc 0.9163\n",
      "Epoch 90/100: train acc 0.9671 test acc 0.9146\n",
      "Epoch 91/100: train acc 0.9679 test acc 0.9174\n",
      "Epoch 92/100: train acc 0.9683 test acc 0.9165\n",
      "Epoch 93/100: train acc 0.9685 test acc 0.9168\n",
      "Epoch 94/100: train acc 0.9684 test acc 0.918\n",
      "Epoch 95/100: train acc 0.9689 test acc 0.9153\n",
      "Epoch 96/100: train acc 0.9687 test acc 0.9178\n",
      "Epoch 97/100: train acc 0.9698 test acc 0.9169\n",
      "Epoch 98/100: train acc 0.9692 test acc 0.914\n",
      "Epoch 99/100: train acc 0.97 test acc 0.9166\n"
     ]
    }
   ],
   "source": [
    "n_epochs = 100\n",
    "identity = torch.eye(8)\n",
    "for i in range(0,n_epochs):\n",
    "  encoder1.train()\n",
    "  operator1.train()\n",
    "  model.train()\n",
    "  encoder2.train()\n",
    "  operator2.train()\n",
    "\n",
    "  for x1, x2, deg1, deg2, labels, _ in triplettrainloader:\n",
    "    with torch.no_grad():\n",
    "      deg1 = -deg1.flatten().int() \n",
    "      deg2 = -deg2.flatten().int()\n",
    "      labels = labels.long().flatten()\n",
    "      \n",
    "    y1 = encoder1(x1)\n",
    "    y1_tr = operator1(y1,deg1)\n",
    "    y1_tr = encoder2(y1_tr)\n",
    "\n",
    "    y2 = encoder1(x2)\n",
    "    y2_tr = encoder2(y2)\n",
    "    y2_tr = operator2(y2_tr,deg2)\n",
    "\n",
    "    predicted_class1 = classifier(y1_tr)\n",
    "    predicted_class2 = classifier(y2_tr)\n",
    "    \n",
    "    # zero the parameter gradients\n",
    "    optimizer1.zero_grad()\n",
    "  \n",
    "    loss =  criterion1(y1_tr,y2_tr) +  0.5*criterion2(predicted_class1, labels) + 0.5*criterion2(predicted_class2, labels)  \\\n",
    "      + 0.1* criterion1(identity,torch.linalg.matrix_power(operator1.core1,8)) #+ 0.1 * operator2.core.abs().mean()\n",
    "      \n",
    "    loss.backward()\n",
    "    optimizer1.step()\n",
    "  if not epoch %20:\n",
    "    train_loss = compute_accuracy(encoder1, encoder2, classifier, operator1,operator2, triplettrainloader)\n",
    "    test_loss = compute_accuracy(encoder1, encoder2, classifier, operator1,operator2, triplettestloader)\n",
    "    loss_record +=  [(train_loss, test_loss)]\n",
    "    print(\"Epoch {}/{}: train acc {:.4} test acc {:.4}\".format(i, n_epochs,train_loss, test_loss))"
   ]
  },
  {
   "cell_type": "code",
   "execution_count": 107,
   "metadata": {},
   "outputs": [
    {
     "data": {
      "text/plain": [
       "tensor([[ 0.5286,  7.4043,  2.7938, -7.7402,  1.1389, -0.6780, -0.6010, -5.9115],\n",
       "        [-1.6812,  4.6765,  1.5203, -8.0676, -1.2178,  2.1480, -0.3580, -2.0759],\n",
       "        [ 3.1435,  2.0308,  0.4552, -2.9771,  1.1919,  3.8742,  1.7780,  1.8698],\n",
       "        [-0.1492,  2.9973, -1.2751, -0.0407, -0.5966, -1.8586, -0.0627, -0.6918],\n",
       "        [ 1.3423,  3.6524,  1.0740, -6.9460,  1.5391,  3.6296,  1.1017, -0.3000],\n",
       "        [ 0.8002,  4.3193,  2.3099, -4.0667,  1.9813,  2.5191, -0.2665, -3.0032],\n",
       "        [ 1.7749,  1.6979,  0.9931, -1.5520,  1.3862,  1.7683,  1.5512, -0.3681],\n",
       "        [-1.6783, -1.9668, -0.5593,  3.6398, -0.7229, -3.2514, -0.8841,  0.3508]],\n",
       "       grad_fn=<LinalgInvExBackward0>)"
      ]
     },
     "execution_count": 107,
     "metadata": {},
     "output_type": "execute_result"
    }
   ],
   "source": [
    "torch.linalg.matrix_power(operator2.core,-1)"
   ]
  },
  {
   "cell_type": "code",
   "execution_count": 127,
   "metadata": {},
   "outputs": [
    {
     "data": {
      "text/plain": [
       "<matplotlib.image.AxesImage at 0x29dbcf1c0>"
      ]
     },
     "execution_count": 127,
     "metadata": {},
     "output_type": "execute_result"
    },
    {
     "data": {
      "image/png": "[encoded data removed]",
      "text/plain": [
       "<Figure size 640x480 with 1 Axes>"
      ]
     },
     "metadata": {},
     "output_type": "display_data"
    }
   ],
   "source": [
    "plt.imshow(torch.linalg.matrix_power(operator1.core1,8).detach().numpy())"
   ]
  },
  {
   "cell_type": "code",
   "execution_count": 128,
   "metadata": {},
   "outputs": [],
   "source": [
    "with torch.no_grad():\n",
    "    encoder1.eval()\n",
    "    operator1.eval()\n",
    "    classifier.eval()\n",
    "    encoder2.eval()\n",
    "    operator2.eval()\n",
    "    \n",
    "    accuracies_operator = np.zeros([3,8])\n",
    "    \n",
    "\n",
    "    vertical_ = zip([X_up_test,X_0_test, X_down_test], [y_up_test,y_0_test, y_down_test])\n",
    "    \n",
    "    for j, (X_, y_) in enumerate(vertical_):\n",
    "        for i in range (-4, 4):\n",
    "            X_test_shift = roll_data(X_, i)\n",
    "            y1 = encoder1(get_tensor(X_test_shift))\n",
    "            y1_tr = operator1(y1, -torch.ones(y_.shape[0]).int() * i)\n",
    "            y1_tr = encoder2(y1_tr)\n",
    "            y1_tr = operator2(y1_tr,j*torch.ones(y_.shape[0]).int() -1)\n",
    "            predicted_class1 = classifier(y1_tr).argmax(1).flatten()\n",
    "            accuracies_operator[j,i-4] = (1-torch.abs(torch.sign(predicted_class1- y_))).mean()"
   ]
  },
  {
   "cell_type": "code",
   "execution_count": 129,
   "metadata": {},
   "outputs": [
    {
     "data": {
      "text/plain": [
       "<AxesSubplot:>"
      ]
     },
     "execution_count": 129,
     "metadata": {},
     "output_type": "execute_result"
    },
    {
     "data": {
      "image/png": "[encoded data removed]",
      "text/plain": [
       "<Figure size 800x300 with 1 Axes>"
      ]
     },
     "metadata": {},
     "output_type": "display_data"
    }
   ],
   "source": [
    "plt.figure(figsize=(8, 3), dpi=100)\n",
    "\n",
    "df_cm = pd.DataFrame(accuracies_operator , index = range(-1,2),\n",
    "                  columns =range(-4,4) )\n",
    "\n",
    "sns.heatmap(df_cm, annot=True,cmap='Blues', cbar=False,vmin=0.2, vmax=0.8 )"
   ]
  },
  {
   "cell_type": "code",
   "execution_count": 215,
   "metadata": {},
   "outputs": [],
   "source": [
    "with torch.no_grad():\n",
    "    encoder1.eval()\n",
    "    operator1.eval()\n",
    "    classifier.eval()\n",
    "    encoder2.eval()\n",
    "    operator2.eval()\n",
    "\n",
    "    N_points = 1000\n",
    "\n",
    "    h_rand_idx = np.random.choice(h_X_train.shape[0], N_points)\n",
    "    y_tr = encoder1(get_tensor(h_X_train[h_rand_idx]))\n",
    "    y_tr = operator1(y_tr, -h_shift_train[h_rand_idx].flatten())\n",
    "    h_recovered_points_ = encoder2(y_tr)\n",
    "    del y_tr\n",
    "\n",
    "    v_rand_idx = np.random.choice(v_X_train.shape[0], N_points)\n",
    "    y_tr = encoder1(get_tensor(v_X_train[v_rand_idx]))\n",
    "    y_tr = encoder2(y_tr)\n",
    "    v_recovered_points_ = operator2(y_tr, -v_shift_train[v_rand_idx].flatten())\n",
    "    del y_tr\n",
    "    \n",
    "    accuracies_inferred_operator = np.zeros([3,8])\n",
    "    \n",
    "    vertical_ = zip([X_up_test, X_0_test, X_down_test], [y_up_test, y_0_test, y_down_test])\n",
    "    \n",
    "    for j, (X_, y_) in enumerate(vertical_):\n",
    "        for i in range (-4, 4):\n",
    "            X_test_shift = roll_data(X_, i)\n",
    "            y1 = encoder1(get_tensor(X_test_shift))\n",
    "            #y_tr_est1 = operator1(y1, -torch.ones(y_.shape[0]).int() * i)\n",
    "            \n",
    "            y_tr_rotated = torch.zeros(y1.shape[0])\n",
    "\n",
    "            phies = [torch.linalg.matrix_power(operator1.core1,i) for i in range (8)]\n",
    "            for z, y__ in enumerate(y1):\n",
    "                distances = np.zeros(8)\n",
    "                for d in (range(-4,4)):\n",
    "                    x_rotated = phies[d].matmul(y__).repeat(N_points,1)\n",
    "                    distances[d] = ((x_rotated-h_recovered_points_)**2).mean(1).topk(10, largest=False)[0].mean()\n",
    "                y_tr_rotated[z] = distances.argmin()\n",
    "            print((y_tr_rotated+i), 1-torch.abs(torch.sign(y_tr_rotated+i)).mean())\n",
    "            y_tr_est1 = operator1(y1, y_tr_rotated.int())\n",
    "            y_tr_est1 = encoder2(y_tr_est1)\n",
    "\n",
    "            y_tr_rotated = torch.zeros(y1.shape[0])\n",
    "\n",
    "            phies = [torch.linalg.matrix_power(operator2.core,i) for i in range (2)]+[torch.linalg.matrix_power(operator2.core,-1)]\n",
    "            for z, y__ in enumerate(y_tr_est1):\n",
    "                distances = np.zeros(3)\n",
    "                for d in (range(-1,2)):\n",
    "                    x_rotated = phies[d].matmul(y__).repeat(N_points,1)\n",
    "                    distances[d] = ((x_rotated-v_recovered_points_)**2).mean(1).topk(2, largest=False)[0].mean()\n",
    "                y_tr_rotated[z] = distances.argmin()\n",
    "            y_tr_est1 = operator2(y_tr_est1, y_tr_rotated.int())\n",
    "            y_tr1 = classifier(y_tr_est1).argmax(1)\n",
    "            accuracies_inferred_operator[j, i-4] = 1-torch.abs(torch.sign(y_tr1- y_)).mean()"
   ]
  },
  {
   "cell_type": "code",
   "execution_count": 216,
   "metadata": {},
   "outputs": [
    {
     "data": {
      "text/plain": [
       "<AxesSubplot:>"
      ]
     },
     "execution_count": 216,
     "metadata": {},
     "output_type": "execute_result"
    },
    {
     "data": {
      "image/png": "[encoded data removed]",
      "text/plain": [
       "<Figure size 800x300 with 1 Axes>"
      ]
     },
     "metadata": {},
     "output_type": "display_data"
    }
   ],
   "source": [
    "plt.figure(figsize=(8, 3), dpi=100)\n",
    "\n",
    "df_cm = pd.DataFrame(accuracies_inferred_operator , index = range(-1,2),\n",
    "                  columns =range(-4,4) )\n",
    "\n",
    "sns.heatmap(df_cm, annot=True,cmap='Blues', cbar=False,vmin=0.2, vmax=0.8 )"
   ]
  },
  {
   "cell_type": "code",
   "execution_count": null,
   "metadata": {},
   "outputs": [],
   "source": []
  }
 ],
 "metadata": {
  "kernelspec": {
   "display_name": "Python 3",
   "language": "python",
   "name": "python3"
  },
  "language_info": {
   "codemirror_mode": {
    "name": "ipython",
    "version": 3
   },
   "file_extension": ".py",
   "mimetype": "text/x-python",
   "name": "python",
   "nbconvert_exporter": "python",
   "pygments_lexer": "ipython3",
   "version": "3.10.12"
  },
  "orig_nbformat": 4,
  "vscode": {
   "interpreter": {
    "hash": "b0fa6594d8f4cbf19f97940f81e996739fb7646882a419484c72d19e05852a7e"
   }
  }
 },
 "nbformat": 4,
 "nbformat_minor": 2
}
